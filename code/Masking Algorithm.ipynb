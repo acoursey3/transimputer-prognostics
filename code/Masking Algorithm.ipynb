{
 "cells": [
  {
   "cell_type": "markdown",
   "id": "31c3e7d0",
   "metadata": {},
   "source": [
    "# Masking Algorithm\n",
    "\n",
    "This notebook is a sandbox to design the masking algorithm for training the self-supervised Transformer for this project. The masking algorithm should\n",
    "\n",
    "- perform missing completely at random\n",
    "- perform missing in blocks\n",
    "- perform intermittent missing data\n",
    "\n",
    "Each of these should occur in a batch with probabiliy $\\epsilon$. \n",
    "\n",
    "Each of these should also only affect up to the index where data is present. The sequences are padded with zeros to make them a fixed length. Missing data should not be present when 0 padded."
   ]
  },
  {
   "cell_type": "code",
   "execution_count": 2,
   "id": "18d8fbcf",
   "metadata": {},
   "outputs": [],
   "source": [
    "import DataUtils\n",
    "import torch\n",
    "import numpy as np\n",
    "import matplotlib as plt"
   ]
  },
  {
   "cell_type": "markdown",
   "id": "cbaf397e",
   "metadata": {},
   "source": [
    "### Loading Data"
   ]
  },
  {
   "cell_type": "code",
   "execution_count": 4,
   "id": "e3244814",
   "metadata": {},
   "outputs": [],
   "source": [
    "trainloader, testloader = DataUtils.get_dataloaders(32)"
   ]
  },
  {
   "cell_type": "code",
   "execution_count": 5,
   "id": "01e6324e",
   "metadata": {},
   "outputs": [],
   "source": [
    "example = next(enumerate(trainloader))\n",
    "ex_X = example[1][0]\n",
    "ex_y = example[1][1]"
   ]
  },
  {
   "cell_type": "code",
   "execution_count": 6,
   "id": "d77c2e23",
   "metadata": {},
   "outputs": [
    {
     "name": "stdout",
     "output_type": "stream",
     "text": [
      "torch.Size([32, 543, 27]) torch.Size([32, 543])\n"
     ]
    }
   ],
   "source": [
    "print(ex_X.shape, ex_y.shape)"
   ]
  },
  {
   "cell_type": "markdown",
   "id": "ca991c8d",
   "metadata": {},
   "source": [
    "### Defining Masking Functions"
   ]
  },
  {
   "cell_type": "code",
   "execution_count": 87,
   "id": "b42e3b12",
   "metadata": {},
   "outputs": [],
   "source": [
    "def mask_random(batched_data):\n",
    "    percent_missing = np.random.randint(30, 60) / 100\n",
    "    flat = batched_data.flatten(0)\n",
    "    mask = torch.FloatTensor(flat.shape[0]).uniform_() > percent_missing\n",
    "    masked = flat * mask.int().double()\n",
    "    return masked.reshape(batched_data.shape)"
   ]
  },
  {
   "cell_type": "code",
   "execution_count": 110,
   "id": "8f142a03",
   "metadata": {},
   "outputs": [
    {
     "name": "stdout",
     "output_type": "stream",
     "text": [
      "0.41\n"
     ]
    },
    {
     "data": {
      "text/plain": [
       "tensor(0.4095)"
      ]
     },
     "execution_count": 110,
     "metadata": {},
     "output_type": "execute_result"
    }
   ],
   "source": [
    "masked = mask_random(ex_X)\n",
    "(torch.sum(masked.flatten(0) != -1)) / masked.flatten(0).shape[0]"
   ]
  },
  {
   "cell_type": "code",
   "execution_count": null,
   "id": "a9a191e2",
   "metadata": {},
   "outputs": [],
   "source": [
    "def mask_blocks(batched_data):\n",
    "    pass"
   ]
  },
  {
   "cell_type": "code",
   "execution_count": null,
   "id": "10b98b09",
   "metadata": {},
   "outputs": [],
   "source": [
    "def mask_intermittently(batched_data):\n",
    "    pass"
   ]
  }
 ],
 "metadata": {
  "kernelspec": {
   "display_name": "Python 3 (ipykernel)",
   "language": "python",
   "name": "python3"
  },
  "language_info": {
   "codemirror_mode": {
    "name": "ipython",
    "version": 3
   },
   "file_extension": ".py",
   "mimetype": "text/x-python",
   "name": "python",
   "nbconvert_exporter": "python",
   "pygments_lexer": "ipython3",
   "version": "3.10.9"
  }
 },
 "nbformat": 4,
 "nbformat_minor": 5
}
