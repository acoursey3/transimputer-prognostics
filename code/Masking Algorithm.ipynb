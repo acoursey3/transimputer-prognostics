{
 "cells": [
  {
   "cell_type": "markdown",
   "id": "faf4936c",
   "metadata": {},
   "source": [
    "# Masking Algorithm\n",
    "\n",
    "This notebook is a sandbox to design the masking algorithm for training the self-supervised Transformer for this project. The masking algorithm should\n",
    "\n",
    "- perform missing completely at random\n",
    "- perform missing in blocks\n",
    "- perform intermittent missing data (can we randomize length and starting point?)\n",
    "\n",
    "Each of these should occur in a batch with probabiliy $\\epsilon$. \n",
    "\n",
    "Each of these should also only affect up to the index where data is present. The sequences are padded with zeros to make them a fixed length. Missing data should not be present when 0 padded."
   ]
  },
  {
   "cell_type": "code",
   "execution_count": 1,
   "id": "0a1c317a",
   "metadata": {},
   "outputs": [
    {
     "name": "stderr",
     "output_type": "stream",
     "text": [
      "C:\\Users\\austi\\miniconda3\\envs\\deep_learn\\lib\\site-packages\\tqdm\\auto.py:21: TqdmWarning: IProgress not found. Please update jupyter and ipywidgets. See https://ipywidgets.readthedocs.io/en/stable/user_install.html\n",
      "  from .autonotebook import tqdm as notebook_tqdm\n"
     ]
    }
   ],
   "source": [
    "import DataUtils\n",
    "import torch\n",
    "import numpy as np\n",
    "import matplotlib.pyplot as plt"
   ]
  },
  {
   "cell_type": "markdown",
   "id": "5422daac",
   "metadata": {},
   "source": [
    "### Loading Data"
   ]
  },
  {
   "cell_type": "code",
   "execution_count": 2,
   "id": "944ce69b",
   "metadata": {},
   "outputs": [],
   "source": [
    "trainloader, testloader = DataUtils.get_dataloaders(32, 1)"
   ]
  },
  {
   "cell_type": "code",
   "execution_count": 3,
   "id": "0f004066",
   "metadata": {},
   "outputs": [],
   "source": [
    "example = next(enumerate(testloader))\n",
    "ex_X = example[1][0]\n",
    "ex_y = example[1][1]"
   ]
  },
  {
   "cell_type": "code",
   "execution_count": 11,
   "id": "94d3de5b",
   "metadata": {},
   "outputs": [
    {
     "name": "stdout",
     "output_type": "stream",
     "text": [
      "torch.Size([32, 542, 27]) torch.Size([32])\n"
     ]
    }
   ],
   "source": [
    "print(ex_X.shape, ex_y.shape)"
   ]
  },
  {
   "cell_type": "markdown",
   "id": "801cd863",
   "metadata": {},
   "source": [
    "### Defining Masking Functions"
   ]
  },
  {
   "cell_type": "markdown",
   "id": "93fc172b",
   "metadata": {},
   "source": [
    "First, mask completely at random. Fill with -1 to signify missing data."
   ]
  },
  {
   "cell_type": "code",
   "execution_count": 79,
   "id": "ebb516ac",
   "metadata": {},
   "outputs": [],
   "source": [
    "# def mask_random(batched_data):\n",
    "#     masked = batched_data.clone()\n",
    "#     percent_missing = np.random.randint(30, 60) / 100\n",
    "    \n",
    "#     for row in masked:\n",
    "#         print(row.shape)\n",
    "    \n",
    "#     random_mask = (torch.FloatTensor(masked.shape).uniform_() > percent_missing)\n",
    "\n",
    "#     masked[random_mask] *= -1\n",
    "#     masked[masked < 0] = -1\n",
    "#     return masked"
   ]
  },
  {
   "cell_type": "code",
   "execution_count": 4,
   "id": "11b7b749",
   "metadata": {},
   "outputs": [],
   "source": [
    "import numpy as np\n",
    "import torch\n",
    "\n",
    "def mask_random(batched_data):\n",
    "    masked = batched_data.clone()\n",
    "    percent_missing = np.random.randint(30, 60) / 100\n",
    "\n",
    "    # Find indices of the padded values\n",
    "    padded_indices = (masked == 0).all(dim=2)\n",
    "\n",
    "    # Generate random masks for true values only\n",
    "    true_masks = torch.rand(batched_data.shape) > percent_missing\n",
    "    true_masks[padded_indices] = False\n",
    "\n",
    "    # Mask the true values and leave padded values as 0\n",
    "    masked[true_masks] = -1\n",
    "\n",
    "    return masked"
   ]
  },
  {
   "cell_type": "code",
   "execution_count": 5,
   "id": "cc2c07f2",
   "metadata": {},
   "outputs": [],
   "source": [
    "masked = mask_random(ex_X)"
   ]
  },
  {
   "cell_type": "code",
   "execution_count": 6,
   "id": "59e3c533",
   "metadata": {},
   "outputs": [
    {
     "data": {
      "text/plain": [
       "<matplotlib.legend.Legend at 0x2121559eaa0>"
      ]
     },
     "execution_count": 6,
     "metadata": {},
     "output_type": "execute_result"
    },
    {
     "data": {
      "image/png": "[encoded data removed]",
      "text/plain": [
       "<Figure size 640x480 with 1 Axes>"
      ]
     },
     "metadata": {},
     "output_type": "display_data"
    }
   ],
   "source": [
    "index = 542\n",
    "plt.scatter(range(index), masked[30][:,7][0:index], label='Masked', alpha=0.5, marker=\"x\")\n",
    "plt.scatter(range(index), ex_X[30][:,7][0:index], label='Original', alpha=0.5, marker=\".\")\n",
    "plt.legend()"
   ]
  },
  {
   "cell_type": "code",
   "execution_count": 175,
   "id": "d9cbed2e",
   "metadata": {},
   "outputs": [],
   "source": [
    "import numpy as np\n",
    "\n",
    "# Assumes data in shape [1,542,cols]\n",
    "def mask_intermittently(unbatched_data):\n",
    "    unbatched_data.squeeze(0)\n",
    "    masked = unbatched_data.clone().float()\n",
    "\n",
    "    # Create a mask for the padded values\n",
    "    padded_indices = (masked == 0)\n",
    "\n",
    "    # Select a random subset of columns to mask\n",
    "    n_cols = np.random.randint(0, unbatched_data.shape[1])\n",
    "    cols = np.random.choice(list(range(unbatched_data.shape[1])), n_cols, replace=False)\n",
    "\n",
    "    # Create a checkerboard mask\n",
    "    checkerboard_mask = np.ones(masked.shape[0])\n",
    "    checkerboard_mask[0::2] = 0\n",
    "    checkerboard_mask = checkerboard_mask.astype(bool)\n",
    "\n",
    "    # Apply the mask to the selected columns\n",
    "    masked[checkerboard_mask] = -1\n",
    "\n",
    "    # Set the padded values to 0\n",
    "    masked[padded_indices] = 0\n",
    "\n",
    "    return masked"
   ]
  },
  {
   "cell_type": "code",
   "execution_count": 165,
   "id": "2209117e",
   "metadata": {},
   "outputs": [
    {
     "name": "stdout",
     "output_type": "stream",
     "text": [
      "[ 7  8 18 17 25 11 13  9 16]\n",
      "torch.Size([1, 542, 27])\n"
     ]
    }
   ],
   "source": [
    "masked = mask_intermittently(ex_X[30])\n",
    "print(masked.shape)"
   ]
  },
  {
   "cell_type": "code",
   "execution_count": 167,
   "id": "4fa1fb7c",
   "metadata": {},
   "outputs": [
    {
     "name": "stdout",
     "output_type": "stream",
     "text": [
      "tensor(285)\n"
     ]
    }
   ],
   "source": [
    "print(torch.sum(masked==-1))"
   ]
  },
  {
   "cell_type": "code",
   "execution_count": 166,
   "id": "6d93e5d2",
   "metadata": {},
   "outputs": [
    {
     "data": {
      "text/plain": [
       "<matplotlib.collections.PathCollection at 0x213033698d0>"
      ]
     },
     "execution_count": 166,
     "metadata": {},
     "output_type": "execute_result"
    },
    {
     "data": {
      "image/png": "[encoded data removed]",
      "text/plain": [
       "<Figure size 640x480 with 1 Axes>"
      ]
     },
     "metadata": {},
     "output_type": "display_data"
    }
   ],
   "source": [
    "plt.scatter(range(542), masked[:,:,1])\n",
    "plt.scatter(range(542), masked[:,:,6])\n",
    "plt.scatter(range(542), masked[:,:,8])"
   ]
  },
  {
   "cell_type": "code",
   "execution_count": 172,
   "id": "75eca5b6",
   "metadata": {},
   "outputs": [],
   "source": [
    "import torch\n",
    "\n",
    "# Written by ChatGPT\n",
    "def mask_blocks(batched_data):\n",
    "    x = batched_data.clone()\n",
    "    batch_size, seq_len, num_features = x.shape\n",
    "\n",
    "    # Create a mask tensor to indicate which elements of the tensor should be masked\n",
    "    mask = torch.zeros((batch_size, seq_len), dtype=torch.bool)\n",
    "\n",
    "    # Iterate over each element in the batch\n",
    "    for i in range(batch_size):\n",
    "        # Get the sequence for the current example\n",
    "        seq = x[i]\n",
    "\n",
    "        # Determine the length of the non-padded sequence\n",
    "        non_padded_len = torch.nonzero(seq[:,2]).shape[0]\n",
    "\n",
    "        # Randomly select the number of blocks to mask (1-5)\n",
    "        num_blocks = torch.randint(1, 3, size=(1,)).item()\n",
    "\n",
    "        # Iterate over each block to mask\n",
    "        for j in range(num_blocks):\n",
    "            # Randomly select the length of the block (5-20)\n",
    "            block_len = torch.randint(0, int(non_padded_len/num_blocks)+1, size=(1,)).item()\n",
    "\n",
    "            if non_padded_len - block_len + 1 < 1:\n",
    "                continue\n",
    "            # Randomly select the start index of the block\n",
    "            start_index = torch.randint(0, non_padded_len - block_len + 1, size=(1,)).item()\n",
    "                \n",
    "            # Mask the selected block\n",
    "            mask[i, start_index:start_index + block_len] = True\n",
    "\n",
    "    # Apply the mask to the tensor and replace masked values with -1\n",
    "    x[mask.unsqueeze(-1).expand_as(x)] = -1\n",
    "\n",
    "    return x"
   ]
  },
  {
   "cell_type": "code",
   "execution_count": 207,
   "id": "6d439780",
   "metadata": {},
   "outputs": [],
   "source": [
    "masked = mask_blocks(ex_X)"
   ]
  },
  {
   "cell_type": "code",
   "execution_count": 174,
   "id": "b18bbc2b",
   "metadata": {},
   "outputs": [
    {
     "data": {
      "text/plain": [
       "<matplotlib.collections.PathCollection at 0x2028cb934f0>"
      ]
     },
     "execution_count": 174,
     "metadata": {},
     "output_type": "execute_result"
    },
    {
     "data": {
      "image/png": "[encoded data removed]",
      "text/plain": [
       "<Figure size 640x480 with 1 Axes>"
      ]
     },
     "metadata": {},
     "output_type": "display_data"
    }
   ],
   "source": [
    "plt.scatter(range(542), masked[15][:,1], alpha=0.3)\n",
    "plt.scatter(range(542), masked[15][:,4], alpha=0.3)\n",
    "plt.scatter(range(542), masked[15][:,8], alpha=0.3)"
   ]
  },
  {
   "cell_type": "code",
   "execution_count": 179,
   "id": "c4fcd03c",
   "metadata": {},
   "outputs": [],
   "source": [
    "def mask_input(batched_data, only_mask=True):\n",
    "    min_size = 5\n",
    "    \n",
    "    masked_data = []\n",
    "    batch_size = batched_data.shape[0]\n",
    "    for i in range(batch_size):\n",
    "        \n",
    "        sample = batched_data[i]\n",
    "        eps = np.random.rand()\n",
    "\n",
    "        if torch.nonzero(sample[:,2]).shape[0] < min_size:\n",
    "            masked_data.append(sample)\n",
    "            continue\n",
    "            \n",
    "        if eps > 0.66:\n",
    "            masked = mask_random(sample.unsqueeze(0))\n",
    "        elif eps > 0.33:\n",
    "            masked = mask_intermittently(sample.unsqueeze(0))\n",
    "        else:\n",
    "            masked = mask_blocks(sample.unsqueeze(0))\n",
    "            \n",
    "        masked_data.append(masked.squeeze(0))\n",
    "            \n",
    "    \n",
    "    return torch.stack(masked_data)"
   ]
  },
  {
   "cell_type": "code",
   "execution_count": 180,
   "id": "93a49940",
   "metadata": {},
   "outputs": [],
   "source": [
    "masked = mask_input(ex_X)"
   ]
  },
  {
   "cell_type": "code",
   "execution_count": 183,
   "id": "606acb1c",
   "metadata": {},
   "outputs": [
    {
     "data": {
      "text/plain": [
       "<matplotlib.collections.PathCollection at 0x21304ff7af0>"
      ]
     },
     "execution_count": 183,
     "metadata": {},
     "output_type": "execute_result"
    },
    {
     "data": {
      "image/png": "[encoded data removed]",
      "text/plain": [
       "<Figure size 640x480 with 1 Axes>"
      ]
     },
     "metadata": {},
     "output_type": "display_data"
    }
   ],
   "source": [
    "num = 20\n",
    "plt.scatter(range(542), masked[num][:,1], alpha=0.3)\n",
    "plt.scatter(range(542), masked[num][:,4], alpha=0.3)\n",
    "plt.scatter(range(542), masked[num][:,8], alpha=0.3)"
   ]
  }
 ],
 "metadata": {
  "kernelspec": {
   "display_name": "Python 3 (ipykernel)",
   "language": "python",
   "name": "python3"
  },
  "language_info": {
   "codemirror_mode": {
    "name": "ipython",
    "version": 3
   },
   "file_extension": ".py",
   "mimetype": "text/x-python",
   "name": "python",
   "nbconvert_exporter": "python",
   "pygments_lexer": "ipython3",
   "version": "3.10.9"
  }
 },
 "nbformat": 4,
 "nbformat_minor": 5
}
