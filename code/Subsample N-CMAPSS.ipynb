{
 "cells": [
  {
   "cell_type": "code",
   "execution_count": 1,
   "id": "acb14715",
   "metadata": {},
   "outputs": [],
   "source": [
    "import os\n",
    "import h5py\n",
    "import numpy as np"
   ]
  },
  {
   "cell_type": "code",
   "execution_count": 3,
   "id": "690e6ae6",
   "metadata": {},
   "outputs": [
    {
     "ename": "ValueError",
     "evalue": "cannot reshape array of size 4906630 into shape (490663,1)",
     "output_type": "error",
     "traceback": [
      "\u001b[0;31m---------------------------------------------------------------------------\u001b[0m",
      "\u001b[0;31mValueError\u001b[0m                                Traceback (most recent call last)",
      "Cell \u001b[0;32mIn[3], line 35\u001b[0m\n\u001b[1;32m     32\u001b[0m output_file \u001b[38;5;241m=\u001b[39m \u001b[38;5;124m'\u001b[39m\u001b[38;5;124m/data/courseac/N-CMAPSS/subsampled/N-CMAPSS_DS01-005.h5\u001b[39m\u001b[38;5;124m'\u001b[39m\n\u001b[1;32m     33\u001b[0m subsampling_factor \u001b[38;5;241m=\u001b[39m \u001b[38;5;241m10\u001b[39m  \u001b[38;5;66;03m# Keep every 5th point\u001b[39;00m\n\u001b[0;32m---> 35\u001b[0m subsample_datasets(input_file, output_file, subsampling_factor)\n",
      "Cell \u001b[0;32mIn[3], line 19\u001b[0m, in \u001b[0;36msubsample_datasets\u001b[0;34m(input_file, output_file, subsampling_factor)\u001b[0m\n\u001b[1;32m     16\u001b[0m subsampled_data \u001b[38;5;241m=\u001b[39m original_data[:num_elements_to_keep]\n\u001b[1;32m     18\u001b[0m \u001b[38;5;66;03m# Reshape the subsampled data back to the subsampled shape\u001b[39;00m\n\u001b[0;32m---> 19\u001b[0m subsampled_data \u001b[38;5;241m=\u001b[39m np\u001b[38;5;241m.\u001b[39mreshape(subsampled_data, subsampled_shape)\n\u001b[1;32m     21\u001b[0m \u001b[38;5;66;03m# Write the subsampled data to the subsampled dataset\u001b[39;00m\n\u001b[1;32m     22\u001b[0m subsampled_dataset[\u001b[38;5;241m.\u001b[39m\u001b[38;5;241m.\u001b[39m\u001b[38;5;241m.\u001b[39m] \u001b[38;5;241m=\u001b[39m subsampled_data\n",
      "File \u001b[0;32m<__array_function__ internals>:200\u001b[0m, in \u001b[0;36mreshape\u001b[0;34m(*args, **kwargs)\u001b[0m\n",
      "File \u001b[0;32m~/miniconda3/envs/transimputer-prognostics/lib/python3.11/site-packages/numpy/core/fromnumeric.py:298\u001b[0m, in \u001b[0;36mreshape\u001b[0;34m(a, newshape, order)\u001b[0m\n\u001b[1;32m    198\u001b[0m \u001b[38;5;129m@array_function_dispatch\u001b[39m(_reshape_dispatcher)\n\u001b[1;32m    199\u001b[0m \u001b[38;5;28;01mdef\u001b[39;00m \u001b[38;5;21mreshape\u001b[39m(a, newshape, order\u001b[38;5;241m=\u001b[39m\u001b[38;5;124m'\u001b[39m\u001b[38;5;124mC\u001b[39m\u001b[38;5;124m'\u001b[39m):\n\u001b[1;32m    200\u001b[0m     \u001b[38;5;124;03m\"\"\"\u001b[39;00m\n\u001b[1;32m    201\u001b[0m \u001b[38;5;124;03m    Gives a new shape to an array without changing its data.\u001b[39;00m\n\u001b[1;32m    202\u001b[0m \n\u001b[0;32m   (...)\u001b[0m\n\u001b[1;32m    296\u001b[0m \u001b[38;5;124;03m           [5, 6]])\u001b[39;00m\n\u001b[1;32m    297\u001b[0m \u001b[38;5;124;03m    \"\"\"\u001b[39;00m\n\u001b[0;32m--> 298\u001b[0m     \u001b[38;5;28;01mreturn\u001b[39;00m _wrapfunc(a, \u001b[38;5;124m'\u001b[39m\u001b[38;5;124mreshape\u001b[39m\u001b[38;5;124m'\u001b[39m, newshape, order\u001b[38;5;241m=\u001b[39morder)\n",
      "File \u001b[0;32m~/miniconda3/envs/transimputer-prognostics/lib/python3.11/site-packages/numpy/core/fromnumeric.py:57\u001b[0m, in \u001b[0;36m_wrapfunc\u001b[0;34m(obj, method, *args, **kwds)\u001b[0m\n\u001b[1;32m     54\u001b[0m     \u001b[38;5;28;01mreturn\u001b[39;00m _wrapit(obj, method, \u001b[38;5;241m*\u001b[39margs, \u001b[38;5;241m*\u001b[39m\u001b[38;5;241m*\u001b[39mkwds)\n\u001b[1;32m     56\u001b[0m \u001b[38;5;28;01mtry\u001b[39;00m:\n\u001b[0;32m---> 57\u001b[0m     \u001b[38;5;28;01mreturn\u001b[39;00m bound(\u001b[38;5;241m*\u001b[39margs, \u001b[38;5;241m*\u001b[39m\u001b[38;5;241m*\u001b[39mkwds)\n\u001b[1;32m     58\u001b[0m \u001b[38;5;28;01mexcept\u001b[39;00m \u001b[38;5;167;01mTypeError\u001b[39;00m:\n\u001b[1;32m     59\u001b[0m     \u001b[38;5;66;03m# A TypeError occurs if the object does have such a method in its\u001b[39;00m\n\u001b[1;32m     60\u001b[0m     \u001b[38;5;66;03m# class, but its signature is not identical to that of NumPy's. This\u001b[39;00m\n\u001b[0;32m   (...)\u001b[0m\n\u001b[1;32m     64\u001b[0m     \u001b[38;5;66;03m# Call _wrapit from within the except clause to ensure a potential\u001b[39;00m\n\u001b[1;32m     65\u001b[0m     \u001b[38;5;66;03m# exception has a traceback chain.\u001b[39;00m\n\u001b[1;32m     66\u001b[0m     \u001b[38;5;28;01mreturn\u001b[39;00m _wrapit(obj, method, \u001b[38;5;241m*\u001b[39margs, \u001b[38;5;241m*\u001b[39m\u001b[38;5;241m*\u001b[39mkwds)\n",
      "\u001b[0;31mValueError\u001b[0m: cannot reshape array of size 4906630 into shape (490663,1)"
     ]
    }
   ],
   "source": [
    "def subsample_datasets(input_file, output_file, subsampling_factor):\n",
    "    with h5py.File(input_file, 'r') as f_in:\n",
    "        with h5py.File(output_file, 'w') as f_out:\n",
    "            # Iterate over all datasets in the input file\n",
    "            for dataset_name, dataset in f_in.items():\n",
    "                shape = dataset.shape\n",
    "                subsampled_shape = tuple(dim // subsampling_factor for dim in shape)\n",
    "                subsampled_dataset = f_out.create_dataset(dataset_name, shape=subsampled_shape, dtype=dataset.dtype)\n",
    "\n",
    "                # Calculate the number of elements to keep based on subsampling_factor\n",
    "                num_elements = np.prod(subsampled_shape)\n",
    "                num_elements_to_keep = num_elements * subsampling_factor\n",
    "\n",
    "                # Reshape the original dataset to a 1D array\n",
    "                original_data = np.reshape(dataset, (-1,))\n",
    "\n",
    "                # Calculate the number of elements to truncate if necessary\n",
    "                num_elements_remaining = len(original_data) % subsampling_factor\n",
    "                if num_elements_remaining != 0:\n",
    "                    original_data = original_data[:-num_elements_remaining]\n",
    "\n",
    "                # Reshape the subsampled data to the subsampled shape\n",
    "                subsampled_data = np.reshape(original_data, subsampled_shape)\n",
    "\n",
    "                # Write the subsampled data to the subsampled dataset\n",
    "                subsampled_dataset[...] = subsampled_data\n",
    "\n",
    "                # Copy attributes from the original dataset to the subsampled dataset\n",
    "                for attr_name, attr_value in dataset.attrs.items():\n",
    "                    subsampled_dataset.attrs[attr_name] = attr_value\n",
    "\n",
    "    print(\"Subsampling completed successfully.\")\n",
    "\n",
    "# Usage example\n",
    "input_file = '/data/courseac/N-CMAPSS/data_set/N-CMAPSS_DS01-005.h5'\n",
    "output_file = '/data/courseac/N-CMAPSS/subsampled/N-CMAPSS_DS01-005.h5'\n",
    "subsampling_factor = 10  # Keep every 5th point\n",
    "\n",
    "subsample_datasets(input_file, output_file, subsampling_factor)"
   ]
  }
 ],
 "metadata": {
  "kernelspec": {
   "display_name": "Python 3 (ipykernel)",
   "language": "python",
   "name": "python3"
  },
  "language_info": {
   "codemirror_mode": {
    "name": "ipython",
    "version": 3
   },
   "file_extension": ".py",
   "mimetype": "text/x-python",
   "name": "python",
   "nbconvert_exporter": "python",
   "pygments_lexer": "ipython3",
   "version": "3.11.3"
  }
 },
 "nbformat": 4,
 "nbformat_minor": 5
}
