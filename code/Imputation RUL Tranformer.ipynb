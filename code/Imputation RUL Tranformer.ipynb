{
 "cells": [
  {
   "cell_type": "code",
   "execution_count": 12,
   "id": "fbd82acb",
   "metadata": {},
   "outputs": [],
   "source": [
    "import torch\n",
    "import torch.nn as nn\n",
    "from tqdm import tqdm\n",
    "import numpy as np\n",
    "import matplotlib.pyplot as plt\n",
    "\n",
    "# Custom modules\n",
    "import DataUtils\n",
    "import Masking\n",
    "import Models"
   ]
  },
  {
   "cell_type": "markdown",
   "id": "bb034177",
   "metadata": {},
   "source": [
    "## Loading Data"
   ]
  },
  {
   "cell_type": "code",
   "execution_count": 14,
   "id": "d98416c0",
   "metadata": {},
   "outputs": [],
   "source": [
    "trainloader, testloader = DataUtils.get_dataloaders(64, 1)"
   ]
  },
  {
   "cell_type": "markdown",
   "id": "a88c7cdc",
   "metadata": {},
   "source": [
    "## Loading in Models"
   ]
  },
  {
   "cell_type": "markdown",
   "id": "0e68c5e2",
   "metadata": {},
   "source": [
    "Loading the \"frozen\" imputation model head (self-supervised)"
   ]
  },
  {
   "cell_type": "code",
   "execution_count": 4,
   "id": "443d2699",
   "metadata": {},
   "outputs": [
    {
     "data": {
      "text/plain": [
       "<All keys matched successfully>"
      ]
     },
     "execution_count": 4,
     "metadata": {},
     "output_type": "execute_result"
    }
   ],
   "source": [
    "latent_imputation = Models.ImputationTransformer(embed_dim=128)\n",
    "latent_imputation.load_state_dict(torch.load('./saved_models/imputation_transformer_prototype.pt'))"
   ]
  },
  {
   "cell_type": "markdown",
   "id": "7b444d8d",
   "metadata": {},
   "source": [
    "Loading the pretrained imputation model"
   ]
  },
  {
   "cell_type": "code",
   "execution_count": 9,
   "id": "37fa2262",
   "metadata": {},
   "outputs": [],
   "source": [
    "imputation_model = Models.ReconstructionImputationTransformer()\n",
    "imputation_model.load_state_dict(torch.load('./saved_models/recons_imputation_transformer_prototype.pt'))\n",
    "\n",
    "for param in imputation_model.parameters():\n",
    "            param.requires_grad = False"
   ]
  },
  {
   "cell_type": "markdown",
   "id": "c9f2af73",
   "metadata": {},
   "source": [
    "## Creating Imputation RUL Transformer Model"
   ]
  },
  {
   "cell_type": "code",
   "execution_count": 22,
   "id": "8a726c2c",
   "metadata": {},
   "outputs": [],
   "source": [
    "class ImputationRULTransformer(nn.Module):\n",
    "    def __init__(self, latent_model):\n",
    "        super().__init__()\n",
    "        \n",
    "        self.prediction_window = 1\n",
    "        self.input_len = 542\n",
    "        self.n_cols = 24\n",
    "        self.embed_dim = 128\n",
    "        self.latent_model = latent_model\n",
    "        \n",
    "        for param in self.latent_model.parameters():\n",
    "            param.requires_grad = False\n",
    "        \n",
    "        self.input_projection = nn.Sequential(nn.Conv1d(in_channels=542, out_channels=self.embed_dim, kernel_size=1),\n",
    "                                              nn.ReLU(),\n",
    "                                              nn.AdaptiveMaxPool1d(1),\n",
    "                                              nn.Flatten())\n",
    "        \n",
    "        self.positional_embed = nn.Parameter(torch.randn(self.embed_dim))\n",
    "        \n",
    "        self.encoder_layer = nn.TransformerEncoderLayer(d_model=self.embed_dim, nhead=4, activation=\"gelu\", dropout=0.1)\n",
    "        self.transformer_blocks = nn.TransformerEncoder(self.encoder_layer, num_layers=2)\n",
    "        \n",
    "        self.rul_head = nn.Sequential(nn.Linear(self.embed_dim, 2048),\n",
    "                                           nn.ReLU(),\n",
    "                                           nn.Linear(2048, self.prediction_window))\n",
    "    \n",
    "    def forward(self, x):\n",
    "        imputation_latent = self.latent_model(x)\n",
    "        z = self.input_projection(x) \n",
    "        z = z + self.positional_embed + imputation_latent # simply adding for now\n",
    "        z = self.transformer_blocks(z)\n",
    "        z = self.rul_head(z)\n",
    "        \n",
    "        return z.squeeze(1)"
   ]
  },
  {
   "cell_type": "markdown",
   "id": "4fb8b053",
   "metadata": {},
   "source": [
    "### Only Get Masked Outputs"
   ]
  },
  {
   "cell_type": "code",
   "execution_count": 8,
   "id": "820b82e1",
   "metadata": {},
   "outputs": [],
   "source": [
    "def get_masked_indices(masked_X):\n",
    "    missing_idx = (masked_X==float(-1))\n",
    "    return missing_idx"
   ]
  },
  {
   "cell_type": "code",
   "execution_count": 7,
   "id": "77374fcb",
   "metadata": {},
   "outputs": [],
   "source": [
    "columns_excluded = [0, 1, 26] # make sure to mask and THEN take these out\n",
    "columns_kept = [False, False, True, True, True,\n",
    "               True, True, True, True, True,\n",
    "               True, True, True, True, True,\n",
    "               True, True, True, True, True,\n",
    "               True, True, True, True, True,\n",
    "               True, False]"
   ]
  },
  {
   "cell_type": "markdown",
   "id": "abbff39e",
   "metadata": {},
   "source": [
    "### Model Training"
   ]
  },
  {
   "cell_type": "code",
   "execution_count": null,
   "id": "634b4331",
   "metadata": {},
   "outputs": [
    {
     "name": "stderr",
     "output_type": "stream",
     "text": [
      " 10%|████████                                                                         | 32/323 [01:16<12:47,  2.64s/it]"
     ]
    }
   ],
   "source": [
    "objective = nn.MSELoss()\n",
    "\n",
    "rul_tran = ImputationRULTransformer(latent_imputation)\n",
    "\n",
    "lr = 1e-4\n",
    "n_epochs = 25\n",
    "optim = torch.optim.Adam(rul_tran.parameters(), lr=lr)\n",
    "losses = []\n",
    "\n",
    "for n in range(n_epochs):\n",
    "    counter = 0\n",
    "    for i, (X, y) in enumerate(tqdm(trainloader)):\n",
    "        optim.zero_grad()\n",
    "            \n",
    "        masked_X = Masking.mask_input(X)\n",
    "        missing_idx = get_masked_indices(masked_X[:,:,columns_kept])\n",
    "        \n",
    "        xhat = imputation_model(masked_X[:,:,columns_kept].float())\n",
    "        filled_X = X[:,:,columns_kept].clone().float()\n",
    "        filled_X[missing_idx] = xhat[missing_idx]\n",
    "\n",
    "        yhat = rul_tran(filled_X.float())\n",
    "        loss = objective(yhat, y.float())\n",
    "        loss.backward()\n",
    "        losses.append(loss.item())\n",
    "        optim.step()\n",
    "        counter += 1\n",
    "        \n",
    "    print(\"Epoch:\", n+1, \"Loss:\",np.mean(losses[-counter:][0]))"
   ]
  }
 ],
 "metadata": {
  "kernelspec": {
   "display_name": "Python 3 (ipykernel)",
   "language": "python",
   "name": "python3"
  },
  "language_info": {
   "codemirror_mode": {
    "name": "ipython",
    "version": 3
   },
   "file_extension": ".py",
   "mimetype": "text/x-python",
   "name": "python",
   "nbconvert_exporter": "python",
   "pygments_lexer": "ipython3",
   "version": "3.10.9"
  }
 },
 "nbformat": 4,
 "nbformat_minor": 5
}
