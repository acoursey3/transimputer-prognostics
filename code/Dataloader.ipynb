{
 "cells": [
  {
   "cell_type": "code",
   "execution_count": 1,
   "id": "7383be6a",
   "metadata": {},
   "outputs": [
    {
     "name": "stderr",
     "output_type": "stream",
     "text": [
      "C:\\Users\\austi\\miniconda3\\envs\\deep_learn\\lib\\site-packages\\tqdm\\auto.py:21: TqdmWarning: IProgress not found. Please update jupyter and ipywidgets. See https://ipywidgets.readthedocs.io/en/stable/user_install.html\n",
      "  from .autonotebook import tqdm as notebook_tqdm\n"
     ]
    }
   ],
   "source": [
    "import torch\n",
    "import torch.nn as nn\n",
    "import pandas as pd\n",
    "import numpy as np\n",
    "import matplotlib.pyplot as plt\n",
    "from torch.utils.data import Dataset, DataLoader\n",
    "from sklearn.preprocessing import MinMaxScaler"
   ]
  },
  {
   "cell_type": "markdown",
   "id": "bcf92766",
   "metadata": {},
   "source": [
    "Preprocessing code from\n",
    "https://www.kaggle.com/code/phamvanvung/cmapss"
   ]
  },
  {
   "cell_type": "code",
   "execution_count": 12,
   "id": "7a200489",
   "metadata": {},
   "outputs": [],
   "source": [
    "class CMAPSSTrainDataset(Dataset):\n",
    "    def __init__(self, dataset_no=1):\n",
    "        ragged_data = []\n",
    "        X_train, y_train = self.load_split_datasets(dataset_no)\n",
    "        for i in range(len(X_train)):\n",
    "            for j in range(len(X_train[i])):\n",
    "                ragged_data.append([np.array(X_train[i][j]), np.array(y_train[i][j])])\n",
    "                \n",
    "        del X_train\n",
    "        sequenced_data = self.sequence_data(ragged_data)\n",
    "        del ragged_data\n",
    "        \n",
    "        self.pad_len = 542 # max of any sequence from any dataset\n",
    "        \n",
    "        self.data = []\n",
    "        for X, y in sequenced_data:\n",
    "            padded_X = np.pad(X, ((0, self.pad_len-X.shape[0]), (0,0)))\n",
    "            self.data.append([padded_X, y])\n",
    "        \n",
    "    def __len__(self):\n",
    "        return len(self.data)\n",
    "    \n",
    "    def __getitem__(self, idx):\n",
    "        sensors, rul = self.data[idx]\n",
    "        return torch.from_numpy(sensors), rul\n",
    "    \n",
    "    def sequence_data(self, ragged_data):\n",
    "        sequenced_data = []\n",
    "        for X, y in ragged_data:\n",
    "            prev_rul = y[0]\n",
    "            i = 0\n",
    "            for rul in y:\n",
    "                if prev_rul == 0:\n",
    "                    break\n",
    "                prev_rul = rul\n",
    "                sequenced_data.append([X[:i], rul])\n",
    "                i += 1\n",
    "\n",
    "        return sequenced_data\n",
    "    \n",
    "    def load_split_datasets(self, dataset_no):\n",
    "        dataPath = '../CMAPSSData'\n",
    "        id_col = ['id']\n",
    "        cycle_col = ['cycle']\n",
    "        setting_cols = ['setting1', 'setting2', 'setting3']\n",
    "        sensor_cols = ['sensor' + str(i) for i in range(1, 22)]\n",
    "        rul_col = ['RUL']\n",
    "        all_cols = id_col + cycle_col + setting_cols + sensor_cols + rul_col\n",
    "        \n",
    "                # This section is to load data\n",
    "        def loadData(fileName):\n",
    "            data = pd.read_csv(fileName, sep=\" \", header=None)\n",
    "            data.drop([26, 27], axis = 1, inplace=True)\n",
    "            data.columns = id_col + cycle_col + setting_cols +sensor_cols\n",
    "            return data\n",
    "        \n",
    "                # load train RUL also returns the max cycle, and this max cycle is also the life cylce\n",
    "        def addTrainRul(data, decrease_threshold=None):\n",
    "            lifeCycles = {mcId: data[data['id']==mcId]['cycle'].max() for mcId in data['id'].unique()}\n",
    "            if decrease_threshold == None: decrease_threshold = 1\n",
    "            ruls = [lifeCycles[row[0]] - decrease_threshold if row[1] < decrease_threshold else lifeCycles[row[0]] - row[1] for row in data.values]\n",
    "            data['RUL'] = ruls\n",
    "            return lifeCycles\n",
    "\n",
    "        # use this last one only, return the data as well as the max life cycles\n",
    "        def loadTrainData(setNumber, decrease_threshold=None):\n",
    "            fileName = dataPath + '/train_FD00' + str(setNumber) + '.txt'\n",
    "            data = loadData(fileName)\n",
    "            lifeCycles = addTrainRul(data, decrease_threshold)\n",
    "            return data, lifeCycles\n",
    "        \n",
    "        decrease_threshold = None\n",
    "        \n",
    "        train_datasets, train_lifecycles = [], []\n",
    "        \n",
    "        scaler = MinMaxScaler()\n",
    "        setNumber = dataset_no\n",
    "        train, trainLifeCycles = loadTrainData(setNumber, decrease_threshold)\n",
    "        target = train['RUL'].copy()\n",
    "        transformed_train = scaler.fit_transform(train)\n",
    "        train = pd.DataFrame(transformed_train, columns=train.columns, index=train.index)\n",
    "        train['RUL'] = target\n",
    "        train_datasets.append(train)\n",
    "        train_lifecycles.append(trainLifeCycles)\n",
    "        \n",
    "        X_train = []\n",
    "        y_train = []\n",
    "        \n",
    "        split_data, ruls = self.split_by_id(train_datasets[0], dataset_no)\n",
    "        X_train.append(split_data)\n",
    "        y_train.append(ruls)\n",
    "            \n",
    "        return X_train, y_train\n",
    "        \n",
    "    def split_by_id(self, dataset, dataset_no=1):\n",
    "        split_data = []\n",
    "        ruls = []\n",
    "        for id_no in np.unique(dataset['id']):\n",
    "            split = dataset.groupby('id').get_group(id_no).copy()\n",
    "            split['dataset_no'] = dataset_no\n",
    "            rul = split['RUL']\n",
    "            split = split.drop('RUL', axis=1)\n",
    "            split_data.append(split)\n",
    "            ruls.append(rul)\n",
    "\n",
    "        return split_data, ruls"
   ]
  },
  {
   "cell_type": "code",
   "execution_count": 13,
   "id": "701cecd3",
   "metadata": {},
   "outputs": [],
   "source": [
    "traindata = CMAPSSTrainDataset(dataset_no=1)\n",
    "trainloader = DataLoader(traindata, batch_size=32, shuffle=False)"
   ]
  },
  {
   "cell_type": "code",
   "execution_count": 14,
   "id": "e506c858",
   "metadata": {},
   "outputs": [],
   "source": [
    "example = next(enumerate(trainloader))"
   ]
  },
  {
   "cell_type": "code",
   "execution_count": 15,
   "id": "cf1fae35",
   "metadata": {},
   "outputs": [],
   "source": [
    "ex_X = example[1][0]\n",
    "ex_y = example[1][1]"
   ]
  },
  {
   "cell_type": "code",
   "execution_count": 16,
   "id": "e0a4b1d9",
   "metadata": {},
   "outputs": [
    {
     "data": {
      "text/plain": [
       "torch.Size([32, 542, 27])"
      ]
     },
     "execution_count": 16,
     "metadata": {},
     "output_type": "execute_result"
    }
   ],
   "source": [
    "ex_X.shape"
   ]
  },
  {
   "cell_type": "code",
   "execution_count": 9,
   "id": "740edafd",
   "metadata": {},
   "outputs": [
    {
     "data": {
      "text/plain": [
       "torch.Size([32])"
      ]
     },
     "execution_count": 9,
     "metadata": {},
     "output_type": "execute_result"
    }
   ],
   "source": [
    "ex_y.shape"
   ]
  },
  {
   "cell_type": "code",
   "execution_count": 10,
   "id": "a8c2e379",
   "metadata": {},
   "outputs": [
    {
     "data": {
      "text/plain": [
       "tensor([191., 190., 189., 188., 187., 186., 185., 184., 183., 182., 181., 180.,\n",
       "        179., 178., 177., 176., 175., 174., 173., 172., 171., 170., 169., 168.,\n",
       "        167., 166., 165., 164., 163., 162., 161., 160.], dtype=torch.float64)"
      ]
     },
     "execution_count": 10,
     "metadata": {},
     "output_type": "execute_result"
    }
   ],
   "source": [
    "ex_y"
   ]
  },
  {
   "cell_type": "code",
   "execution_count": 11,
   "id": "74b38ca1",
   "metadata": {},
   "outputs": [
    {
     "data": {
      "text/plain": [
       "tensor([0.1996, 0.1628, 0.0000, 0.0000, 0.0000, 0.0000, 0.0000, 0.0000, 0.0000,\n",
       "        0.0000, 0.0000, 0.0000, 0.0000, 0.0000, 0.0000, 0.0000, 0.0000, 0.0000,\n",
       "        0.0000, 0.0000, 0.0000, 0.0000, 0.0000, 0.0000, 0.0000, 0.0000, 0.0000,\n",
       "        0.0000, 0.0000, 0.0000, 0.0000, 0.0000, 0.0000, 0.0000, 0.0000, 0.0000,\n",
       "        0.0000, 0.0000, 0.0000, 0.0000, 0.0000, 0.0000, 0.0000, 0.0000, 0.0000,\n",
       "        0.0000, 0.0000, 0.0000, 0.0000, 0.0000, 0.0000, 0.0000, 0.0000, 0.0000,\n",
       "        0.0000, 0.0000, 0.0000, 0.0000, 0.0000, 0.0000, 0.0000, 0.0000, 0.0000,\n",
       "        0.0000, 0.0000, 0.0000, 0.0000, 0.0000, 0.0000, 0.0000, 0.0000, 0.0000,\n",
       "        0.0000, 0.0000, 0.0000, 0.0000, 0.0000, 0.0000, 0.0000, 0.0000, 0.0000,\n",
       "        0.0000, 0.0000, 0.0000, 0.0000, 0.0000, 0.0000, 0.0000, 0.0000, 0.0000,\n",
       "        0.0000, 0.0000, 0.0000, 0.0000, 0.0000, 0.0000, 0.0000, 0.0000, 0.0000,\n",
       "        0.0000, 0.0000, 0.0000, 0.0000, 0.0000, 0.0000, 0.0000, 0.0000, 0.0000,\n",
       "        0.0000, 0.0000, 0.0000, 0.0000, 0.0000, 0.0000, 0.0000, 0.0000, 0.0000,\n",
       "        0.0000, 0.0000, 0.0000, 0.0000, 0.0000, 0.0000, 0.0000, 0.0000, 0.0000,\n",
       "        0.0000, 0.0000, 0.0000, 0.0000, 0.0000, 0.0000, 0.0000, 0.0000, 0.0000,\n",
       "        0.0000, 0.0000, 0.0000, 0.0000, 0.0000, 0.0000, 0.0000, 0.0000, 0.0000,\n",
       "        0.0000, 0.0000, 0.0000, 0.0000, 0.0000, 0.0000, 0.0000, 0.0000, 0.0000,\n",
       "        0.0000, 0.0000, 0.0000, 0.0000, 0.0000, 0.0000, 0.0000, 0.0000, 0.0000,\n",
       "        0.0000, 0.0000, 0.0000, 0.0000, 0.0000, 0.0000, 0.0000, 0.0000, 0.0000,\n",
       "        0.0000, 0.0000, 0.0000, 0.0000, 0.0000, 0.0000, 0.0000, 0.0000, 0.0000,\n",
       "        0.0000, 0.0000, 0.0000, 0.0000, 0.0000, 0.0000, 0.0000, 0.0000, 0.0000,\n",
       "        0.0000, 0.0000, 0.0000, 0.0000, 0.0000, 0.0000, 0.0000, 0.0000, 0.0000,\n",
       "        0.0000, 0.0000, 0.0000, 0.0000, 0.0000, 0.0000, 0.0000, 0.0000, 0.0000,\n",
       "        0.0000, 0.0000, 0.0000, 0.0000, 0.0000, 0.0000, 0.0000, 0.0000, 0.0000,\n",
       "        0.0000, 0.0000, 0.0000, 0.0000, 0.0000, 0.0000, 0.0000, 0.0000, 0.0000,\n",
       "        0.0000, 0.0000, 0.0000, 0.0000, 0.0000, 0.0000, 0.0000, 0.0000, 0.0000,\n",
       "        0.0000, 0.0000, 0.0000, 0.0000, 0.0000, 0.0000, 0.0000, 0.0000, 0.0000,\n",
       "        0.0000, 0.0000, 0.0000, 0.0000, 0.0000, 0.0000, 0.0000, 0.0000, 0.0000,\n",
       "        0.0000, 0.0000, 0.0000, 0.0000, 0.0000, 0.0000, 0.0000, 0.0000, 0.0000,\n",
       "        0.0000, 0.0000, 0.0000, 0.0000, 0.0000, 0.0000, 0.0000, 0.0000, 0.0000,\n",
       "        0.0000, 0.0000, 0.0000, 0.0000, 0.0000, 0.0000, 0.0000, 0.0000, 0.0000,\n",
       "        0.0000, 0.0000, 0.0000, 0.0000, 0.0000, 0.0000, 0.0000, 0.0000, 0.0000,\n",
       "        0.0000, 0.0000, 0.0000, 0.0000, 0.0000, 0.0000, 0.0000, 0.0000, 0.0000,\n",
       "        0.0000, 0.0000, 0.0000, 0.0000, 0.0000, 0.0000, 0.0000, 0.0000, 0.0000,\n",
       "        0.0000, 0.0000, 0.0000, 0.0000, 0.0000, 0.0000, 0.0000, 0.0000, 0.0000,\n",
       "        0.0000, 0.0000, 0.0000, 0.0000, 0.0000, 0.0000, 0.0000, 0.0000, 0.0000,\n",
       "        0.0000, 0.0000, 0.0000, 0.0000, 0.0000, 0.0000, 0.0000, 0.0000, 0.0000,\n",
       "        0.0000, 0.0000, 0.0000, 0.0000, 0.0000, 0.0000, 0.0000, 0.0000, 0.0000,\n",
       "        0.0000, 0.0000, 0.0000, 0.0000, 0.0000, 0.0000, 0.0000, 0.0000, 0.0000,\n",
       "        0.0000, 0.0000, 0.0000, 0.0000, 0.0000, 0.0000, 0.0000, 0.0000, 0.0000,\n",
       "        0.0000, 0.0000, 0.0000, 0.0000, 0.0000, 0.0000, 0.0000, 0.0000, 0.0000,\n",
       "        0.0000, 0.0000, 0.0000, 0.0000, 0.0000, 0.0000, 0.0000, 0.0000, 0.0000,\n",
       "        0.0000, 0.0000, 0.0000, 0.0000, 0.0000, 0.0000, 0.0000, 0.0000, 0.0000,\n",
       "        0.0000, 0.0000, 0.0000, 0.0000, 0.0000, 0.0000, 0.0000, 0.0000, 0.0000,\n",
       "        0.0000, 0.0000, 0.0000, 0.0000, 0.0000, 0.0000, 0.0000, 0.0000, 0.0000,\n",
       "        0.0000, 0.0000, 0.0000, 0.0000, 0.0000, 0.0000, 0.0000, 0.0000, 0.0000,\n",
       "        0.0000, 0.0000, 0.0000, 0.0000, 0.0000, 0.0000, 0.0000, 0.0000, 0.0000,\n",
       "        0.0000, 0.0000, 0.0000, 0.0000, 0.0000, 0.0000, 0.0000, 0.0000, 0.0000,\n",
       "        0.0000, 0.0000, 0.0000, 0.0000, 0.0000, 0.0000, 0.0000, 0.0000, 0.0000,\n",
       "        0.0000, 0.0000, 0.0000, 0.0000, 0.0000, 0.0000, 0.0000, 0.0000, 0.0000,\n",
       "        0.0000, 0.0000, 0.0000, 0.0000, 0.0000, 0.0000, 0.0000, 0.0000, 0.0000,\n",
       "        0.0000, 0.0000, 0.0000, 0.0000, 0.0000, 0.0000, 0.0000, 0.0000, 0.0000,\n",
       "        0.0000, 0.0000, 0.0000, 0.0000, 0.0000, 0.0000, 0.0000, 0.0000, 0.0000,\n",
       "        0.0000, 0.0000, 0.0000, 0.0000, 0.0000, 0.0000, 0.0000, 0.0000, 0.0000,\n",
       "        0.0000, 0.0000, 0.0000, 0.0000, 0.0000, 0.0000, 0.0000, 0.0000, 0.0000,\n",
       "        0.0000, 0.0000, 0.0000, 0.0000, 0.0000, 0.0000, 0.0000, 0.0000, 0.0000,\n",
       "        0.0000, 0.0000, 0.0000, 0.0000, 0.0000, 0.0000, 0.0000, 0.0000, 0.0000,\n",
       "        0.0000, 0.0000, 0.0000, 0.0000, 0.0000, 0.0000, 0.0000, 0.0000, 0.0000,\n",
       "        0.0000, 0.0000, 0.0000, 0.0000, 0.0000, 0.0000, 0.0000, 0.0000, 0.0000,\n",
       "        0.0000, 0.0000, 0.0000, 0.0000, 0.0000, 0.0000, 0.0000, 0.0000, 0.0000,\n",
       "        0.0000, 0.0000], dtype=torch.float64)"
      ]
     },
     "execution_count": 11,
     "metadata": {},
     "output_type": "execute_result"
    }
   ],
   "source": [
    "ex_X[2][:,18]"
   ]
  },
  {
   "cell_type": "code",
   "execution_count": 6,
   "id": "7fce4ccb",
   "metadata": {},
   "outputs": [],
   "source": [
    "class CMAPSSTestDataset(Dataset):\n",
    "    def __init__(self, size, dataset_no=1):\n",
    "        ragged_data = []\n",
    "        X_test, y_test = self.load_split_datasets(dataset_no)\n",
    "        for i in range(len(X_test)):\n",
    "            for j in range(len(X_test[i])):\n",
    "                ragged_data.append([np.array(X_test[i][j]), np.array(y_test[i][j])])\n",
    "                \n",
    "        del X_test\n",
    "        sequenced_data = self.sequence_data(ragged_data)\n",
    "        del ragged_data\n",
    "        \n",
    "        self.pad_len = size\n",
    "        \n",
    "        self.data = []\n",
    "        for X, y in sequenced_data:\n",
    "            padded_X = np.pad(X, ((0, self.pad_len-X.shape[0]), (0,0)))\n",
    "            self.data.append([padded_X, y])\n",
    "        \n",
    "    def __len__(self):\n",
    "        return len(self.data)\n",
    "    \n",
    "    def __getitem__(self, idx):\n",
    "        sensors, rul = self.data[idx]\n",
    "        return torch.from_numpy(sensors), rul\n",
    "    \n",
    "    def sequence_data(self, ragged_data):\n",
    "        sequenced_data = []\n",
    "        for X, y in ragged_data:\n",
    "            prev_rul = y[0]\n",
    "            i = 0\n",
    "            for rul in y:\n",
    "                if prev_rul == 0:\n",
    "                    break\n",
    "                prev_rul = rul\n",
    "                sequenced_data.append([X[:i], rul])\n",
    "                i += 1\n",
    "\n",
    "        return sequenced_data\n",
    "    \n",
    "    def load_split_datasets(self, setNumber):\n",
    "        dataPath = '../CMAPSSData'\n",
    "        id_col = ['id']\n",
    "        cycle_col = ['cycle']\n",
    "        setting_cols = ['setting1', 'setting2', 'setting3']\n",
    "        sensor_cols = ['sensor' + str(i) for i in range(1, 22)]\n",
    "        rul_col = ['RUL']\n",
    "        all_cols = id_col + cycle_col + setting_cols + sensor_cols + rul_col\n",
    "        \n",
    "                # This section is to load data\n",
    "        def loadData(fileName):\n",
    "            data = pd.read_csv(fileName, sep=\" \", header=None)\n",
    "            data.drop([26, 27], axis = 1, inplace=True)\n",
    "            data.columns = id_col + cycle_col + setting_cols +sensor_cols\n",
    "            return data\n",
    "        \n",
    "        decrease_threshold = None\n",
    "        \n",
    "        def loadTestRul(fileName):\n",
    "            data = pd.read_csv(fileName, sep = \" \", header=None)\n",
    "            data.drop([1], axis=1, inplace=True)\n",
    "            data.columns = ['RUL']\n",
    "            return data\n",
    "        def addTestRul(data, rulData, decrease_threshold=None):\n",
    "            testRuls = {i+1: rulData.iloc[i, 0] for i in range(len(rulData))}\n",
    "            lifeCycles = {mcId: data[data['id']==mcId]['cycle'].max() + testRuls[mcId] for mcId in data['id'].unique()}\n",
    "            if decrease_threshold == None: decrease_threshold = 1\n",
    "            ruls = [lifeCycles[row[0]] - decrease_threshold if row[1] < decrease_threshold else lifeCycles[row[0]] - row[1] for row in data.values]\n",
    "            data['RUL'] = ruls\n",
    "            return lifeCycles\n",
    "        # Use this last one only => return data as well as the max life cycles for each machine\n",
    "        def loadTestData(setNumber, decrease_threshold=None):\n",
    "            data = loadData(dataPath + '/test_FD00' +str(setNumber)+'.txt')\n",
    "            rulData = loadTestRul(dataPath + '/RUL_FD00' + str(setNumber)+'.txt')\n",
    "            lifeCycles = addTestRul(data, rulData, decrease_threshold)\n",
    "            return data, lifeCycles\n",
    "        \n",
    "        test_datasets, test_lifecycles = [], []\n",
    "        \n",
    "        scaler = MinMaxScaler()\n",
    "\n",
    "        test, testLifeCycles = loadTestData(setNumber, decrease_threshold)\n",
    "        print(testLifeCycles)\n",
    "        target = test['RUL'].copy()\n",
    "        transformed_test = scaler.fit_transform(test)\n",
    "        test = pd.DataFrame(transformed_test, columns=test.columns, index=test.index)\n",
    "        test['RUL'] = target\n",
    "        test_datasets.append(test)\n",
    "        test_lifecycles.append(testLifeCycles)\n",
    "        \n",
    "        X_test = []\n",
    "        y_test = []\n",
    "\n",
    "        split_data, ruls = self.split_by_id(test_datasets[0], setNumber)\n",
    "        X_test.append(split_data)\n",
    "        y_test.append(ruls)\n",
    "#         print(y_test)\n",
    "            \n",
    "        return X_test, y_test\n",
    "        \n",
    "    def split_by_id(self, dataset, dataset_no=1):\n",
    "        split_data = []\n",
    "        ruls = []\n",
    "        for id_no in np.unique(dataset['id']):\n",
    "            split = dataset.groupby('id').get_group(id_no).copy()\n",
    "            split['dataset_no'] = dataset_no\n",
    "            rul = split['RUL']\n",
    "            split = split.drop('RUL', axis=1)\n",
    "            split_data.append(split)\n",
    "            ruls.append(rul)\n",
    "\n",
    "        return split_data, ruls"
   ]
  },
  {
   "cell_type": "code",
   "execution_count": 7,
   "id": "b52d9c08",
   "metadata": {},
   "outputs": [
    {
     "name": "stdout",
     "output_type": "stream",
     "text": [
      "{1: 143, 2: 147, 3: 195, 4: 188, 5: 189, 6: 198, 7: 251, 8: 261, 9: 166, 10: 288, 11: 180, 12: 341, 13: 290, 14: 153, 15: 159, 16: 197, 17: 215, 18: 161, 19: 222, 20: 200, 21: 205, 22: 150, 23: 243, 24: 206, 25: 193, 26: 195, 27: 206, 28: 255, 29: 261, 30: 258, 31: 204, 32: 193, 33: 156, 34: 210, 35: 209, 36: 145, 37: 142, 38: 175, 39: 179, 40: 161, 41: 141, 42: 166, 43: 231, 44: 163, 45: 266, 46: 193, 47: 208, 48: 170, 49: 324, 50: 153, 51: 258, 52: 218, 53: 190, 54: 218, 55: 250, 56: 151, 57: 263, 58: 213, 59: 208, 60: 247, 61: 180, 62: 286, 63: 227, 64: 196, 65: 199, 66: 161, 67: 148, 68: 195, 69: 175, 70: 246, 71: 186, 72: 181, 73: 243, 74: 263, 75: 201, 76: 215, 77: 196, 78: 179, 79: 164, 80: 223, 81: 221, 82: 171, 83: 210, 84: 230, 85: 152, 86: 199, 87: 172, 88: 183, 89: 313, 90: 174, 91: 272, 92: 170, 93: 329, 94: 188, 95: 217, 96: 234, 97: 216, 98: 180, 99: 214, 100: 218}\n"
     ]
    }
   ],
   "source": [
    "testdata = CMAPSSTestDataset(size=542, dataset_no=1)\n",
    "testloader = DataLoader(testdata, batch_size=32, shuffle=False)"
   ]
  },
  {
   "cell_type": "code",
   "execution_count": null,
   "id": "f0b15a17",
   "metadata": {},
   "outputs": [],
   "source": [
    "example = next(enumerate(trainloader))"
   ]
  },
  {
   "cell_type": "code",
   "execution_count": null,
   "id": "f4049351",
   "metadata": {},
   "outputs": [],
   "source": [
    "example_test = next(enumerate(testloader))"
   ]
  },
  {
   "cell_type": "code",
   "execution_count": null,
   "id": "e3406163",
   "metadata": {},
   "outputs": [],
   "source": [
    "example_test[1][0].shape"
   ]
  },
  {
   "cell_type": "code",
   "execution_count": 9,
   "id": "6c11be8d",
   "metadata": {},
   "outputs": [
    {
     "data": {
      "text/plain": [
       "[<matplotlib.lines.Line2D at 0x1bc13850dc0>]"
      ]
     },
     "execution_count": 9,
     "metadata": {},
     "output_type": "execute_result"
    },
    {
     "data": {
      "image/png": "[encoded data removed]",
      "text/plain": [
       "<Figure size 640x480 with 1 Axes>"
      ]
     },
     "metadata": {},
     "output_type": "display_data"
    }
   ],
   "source": [
    "plt.plot(example[1][0][31].detach().numpy()[:,18])\n",
    "# plt.plot(example[1][1][31].detach().numpy())"
   ]
  }
 ],
 "metadata": {
  "kernelspec": {
   "display_name": "Python 3 (ipykernel)",
   "language": "python",
   "name": "python3"
  },
  "language_info": {
   "codemirror_mode": {
    "name": "ipython",
    "version": 3
   },
   "file_extension": ".py",
   "mimetype": "text/x-python",
   "name": "python",
   "nbconvert_exporter": "python",
   "pygments_lexer": "ipython3",
   "version": "3.10.9"
  }
 },
 "nbformat": 4,
 "nbformat_minor": 5
}
