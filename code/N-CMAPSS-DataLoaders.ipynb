{
 "cells": [
  {
   "cell_type": "code",
   "execution_count": 1,
   "id": "0c32ee0d",
   "metadata": {},
   "outputs": [],
   "source": [
    "import torch\n",
    "from torch.utils.data import Dataset, DataLoader\n",
    "import os\n",
    "import h5py\n",
    "import matplotlib.pyplot as plt\n",
    "import numpy as np\n",
    "import pandas as pd\n",
    "from tqdm import tqdm\n",
    "from sklearn.preprocessing import MinMaxScaler\n",
    "from pickle import load"
   ]
  },
  {
   "cell_type": "markdown",
   "id": "dd76be5a",
   "metadata": {},
   "source": [
    "# N-CMAPSS Dataloaders"
   ]
  },
  {
   "cell_type": "markdown",
   "id": "24c414d1",
   "metadata": {},
   "source": [
    "Note: you need to ensure you have the necessary scalers (generated via the `Dataset Normalization.ipynb` file) and data saved in the proper directory."
   ]
  },
  {
   "cell_type": "code",
   "execution_count": 2,
   "id": "ae1ad972",
   "metadata": {},
   "outputs": [],
   "source": [
    "# class NCMAPSSTrainDataset(Dataset):\n",
    "#     def __init__(self, ds_no, timesteps=10):\n",
    "#         self.ds_no = ds_no\n",
    "#         self.fileloc = self.get_fileloc(ds_no)\n",
    "#         self.timesteps = timesteps\n",
    "#         self.scaler = self.get_scaler(ds_no)\n",
    "        \n",
    "    \n",
    "#     def __getitem__(self, index):\n",
    "#         start = index - self.timesteps + 1\n",
    "#         if start < 0:\n",
    "#             start = 0\n",
    "#         indices = list(range(start, index+1))\n",
    "        \n",
    "#         X_train, unit, A_dev, Y_dev = self.get_data(indices, index)\n",
    "#         X_train = self.scaler.transform(X_train)\n",
    "#         X_train[:,42] = A_dev[:,0]\n",
    "#         n_pad = self.timesteps - X_train.shape[0]\n",
    "#         X_train = np.pad(X_train, ((n_pad, 0),(0,0)), mode='constant')\n",
    "        \n",
    "#         for i, row in enumerate(X_train):\n",
    "#             curr_unit = row[42] # ensure column 42 contains the unit number\n",
    "#             if curr_unit != unit and not np.all(row==0):\n",
    "#                 print(curr_unit, unit)\n",
    "#                 X_train[i] = np.zeros_like(row)\n",
    "        \n",
    "#         return X_train, Y_dev\n",
    "    \n",
    "#     def get_data(self, indices, index):\n",
    "#         with h5py.File(self.fileloc, 'r') as hdf:\n",
    "#             # Development set\n",
    "#             W_dev = np.array(hdf.get('W_dev')[indices])\n",
    "#             X_s_dev = np.array(hdf.get('X_s_dev')[indices])\n",
    "#             X_v_dev = np.array(hdf.get('X_v_dev')[indices])\n",
    "#             T_dev = np.array(hdf.get('T_dev')[indices])\n",
    "#             Y_dev = np.array(hdf.get('Y_dev')[index])\n",
    "#             A_dev = np.array(hdf.get('A_dev')[indices])\n",
    "            \n",
    "#             unit = A_dev[-1:, 0]\n",
    "            \n",
    "#         X_train = np.concatenate((W_dev, X_s_dev, X_v_dev, T_dev, A_dev), axis=1)\n",
    "        \n",
    "#         return X_train, unit, A_dev, Y_dev\n",
    "    \n",
    "#     def __len__(self):\n",
    "#         lengths = {\n",
    "#             1: 4906636,\n",
    "#             2: 5263447,\n",
    "#             3: 5571277,\n",
    "#             4: 6377452,\n",
    "#             5: 4350606,\n",
    "#             6: 4257209,\n",
    "#             7: 4350176,\n",
    "#             8: 4885389,\n",
    "#             9: 4299918\n",
    "#         }\n",
    "        \n",
    "#         return lengths[self.ds_no]\n",
    "    \n",
    "#     def get_fileloc(self, ds_no):\n",
    "#         locations = {\n",
    "#             1: '/data/courseac/N-CMAPSS/data_set/N-CMAPSS_DS01-005.h5',\n",
    "#             2: '/data/courseac/N-CMAPSS/data_set/N-CMAPSS_DS02-006.h5',\n",
    "#             3: '/data/courseac/N-CMAPSS/data_set/N-CMAPSS_DS03-012.h5',\n",
    "#             4: '/data/courseac/N-CMAPSS/data_set/N-CMAPSS_DS04.h5',\n",
    "#             5: '/data/courseac/N-CMAPSS/data_set/N-CMAPSS_DS05.h5',\n",
    "#             6: '/data/courseac/N-CMAPSS/data_set/N-CMAPSS_DS06.h5',\n",
    "#             7: '/data/courseac/N-CMAPSS/data_set/N-CMAPSS_DS07.h5',\n",
    "#             8: '/data/courseac/N-CMAPSS/data_set/N-CMAPSS_DS08a-009.h5',\n",
    "#             9: '/data/courseac/N-CMAPSS/data_set/N-CMAPSS_DS08c-008.h5',\n",
    "#         }\n",
    "        \n",
    "#         return locations[ds_no]\n",
    "    \n",
    "#     def get_scaler(self, ds_no):\n",
    "#         return load(open('./scalers/scaler' + str(ds_no) + '.pkl', 'rb'))"
   ]
  },
  {
   "cell_type": "code",
   "execution_count": 3,
   "id": "92b7a44e",
   "metadata": {},
   "outputs": [],
   "source": [
    "class NCMAPSSTrainDataset(Dataset):\n",
    "    def __init__(self, ds_no, timesteps=10):\n",
    "        self.ds_no = ds_no\n",
    "        self.fileloc = self.get_fileloc(ds_no)\n",
    "        self.timesteps = timesteps\n",
    "        self.scaler = self.get_scaler(ds_no)\n",
    "        \n",
    "    \n",
    "    def __getitem__(self, index):\n",
    "        start = index - self.timesteps + 1\n",
    "        if start < 0:\n",
    "            start = 0\n",
    "        indices = list(range(start, index+1))\n",
    "        \n",
    "        X_train, unit, A_dev, Y_dev = self.get_data(indices, index)\n",
    "        X_train = self.scaler.transform(X_train)\n",
    "        X_train[:,42] = A_dev[:,0]\n",
    "        n_pad = self.timesteps - X_train.shape[0]\n",
    "        X_train = np.pad(X_train, ((n_pad, 0),(0,0)), mode='constant')\n",
    "        \n",
    "        for i, row in enumerate(X_train):\n",
    "            curr_unit = row[42] # ensure column 42 contains the unit number\n",
    "            if curr_unit != unit and not np.all(row==0):\n",
    "                X_train[i] = np.zeros_like(row)\n",
    "        \n",
    "        return X_train, Y_dev\n",
    "    \n",
    "    def get_data(self, indices, index):\n",
    "        with h5py.File(self.fileloc, 'r') as hdf:\n",
    "            X_train = np.array(hdf.get('X_train')[indices])\n",
    "            Y_dev = np.array(hdf.get('y_train')[index])\n",
    "            A_dev = X_train[:, -4:]\n",
    "            \n",
    "            unit = A_dev[-1:, 0]\n",
    "        \n",
    "        return X_train, unit, A_dev, Y_dev\n",
    "    \n",
    "    def __len__(self):\n",
    "        lengths = {\n",
    "            1: 490663,\n",
    "            2: 526344,\n",
    "            3: 557127,\n",
    "            4: 637745,\n",
    "            5: 435060,\n",
    "            6: 425720,\n",
    "            7: 435017,\n",
    "            8: 488538,\n",
    "            9: 429991\n",
    "        }\n",
    "        \n",
    "        return lengths[self.ds_no]\n",
    "    \n",
    "    def get_fileloc(self, ds_no):\n",
    "        locations = {\n",
    "            1: '/data/courseac/N-CMAPSS/subsampled/ds1.h5',\n",
    "            2: '/data/courseac/N-CMAPSS/subsampled/ds2.h5',\n",
    "            3: '/data/courseac/N-CMAPSS/subsampled/ds3.h5',\n",
    "            4: '/data/courseac/N-CMAPSS/subsampled/ds4.h5',\n",
    "            5: '/data/courseac/N-CMAPSS/subsampled/ds5.h5',\n",
    "            6: '/data/courseac/N-CMAPSS/subsampled/ds6.h5',\n",
    "            7: '/data/courseac/N-CMAPSS/subsampled/ds7.h5',\n",
    "            8: '/data/courseac/N-CMAPSS/subsampled/ds8a.h5',\n",
    "            9: '/data/courseac/N-CMAPSS/subsampled/ds8c.h5',\n",
    "        }\n",
    "        \n",
    "        return locations[ds_no]\n",
    "    \n",
    "    def get_scaler(self, ds_no):\n",
    "        return load(open('./scalers/scaler' + str(ds_no) + '.pkl', 'rb'))"
   ]
  },
  {
   "cell_type": "code",
   "execution_count": 4,
   "id": "c2297618",
   "metadata": {},
   "outputs": [],
   "source": [
    "# class NCMAPSSTestDataset(NCMAPSSTrainDataset):\n",
    "#     def __init__(self, ds_no, timesteps=10):\n",
    "#         super().__init__(ds_no,timesteps)\n",
    "    \n",
    "#     def get_data(self, indices, index):\n",
    "#         with h5py.File(self.fileloc, 'r') as hdf:\n",
    "#             # Development set\n",
    "#             W_dev = np.array(hdf.get('W_test')[indices])\n",
    "#             X_s_dev = np.array(hdf.get('X_s_test')[indices])\n",
    "#             X_v_dev = np.array(hdf.get('X_v_test')[indices])\n",
    "#             T_dev = np.array(hdf.get('T_test')[indices])\n",
    "#             Y_dev = np.array(hdf.get('Y_test')[index])\n",
    "#             A_dev = np.array(hdf.get('A_test')[indices])\n",
    "            \n",
    "#             unit = A_dev[-1:, 0]\n",
    "            \n",
    "#         X_train = np.concatenate((W_dev, X_s_dev, X_v_dev, T_dev, A_dev), axis=1)\n",
    "        \n",
    "#         return X_train, unit, A_dev, Y_dev\n",
    "    \n",
    "#     def __len__(self):\n",
    "#         lengths = {\n",
    "#             1: 2735232,\n",
    "#             2: 1253743,\n",
    "#             3: 4251560,\n",
    "#             4: 3602561,\n",
    "#             5: 2562046,\n",
    "#             6: 2522447,\n",
    "#             7: 2869786,\n",
    "#             8: 3722997,\n",
    "#             9: 2117819\n",
    "#         }\n",
    "        \n",
    "#         return lengths[self.ds_no]"
   ]
  },
  {
   "cell_type": "code",
   "execution_count": 5,
   "id": "f281eb5b",
   "metadata": {},
   "outputs": [],
   "source": [
    "class NCMAPSSTestDataset(NCMAPSSTrainDataset):\n",
    "    def __init__(self, ds_no, timesteps=10):\n",
    "        super().__init__(ds_no,timesteps)\n",
    "    \n",
    "    def get_data(self, indices, index):\n",
    "        with h5py.File(self.fileloc, 'r') as hdf:\n",
    "            X_test = np.array(hdf.get('X_test')[indices])\n",
    "            Y_test = np.array(hdf.get('y_test')[index])\n",
    "            A_test = X_test[:, -4:]\n",
    "            \n",
    "            unit = A_test[-1:, 0]\n",
    "        \n",
    "        return X_test, unit, A_test, Y_test\n",
    "    \n",
    "    def __len__(self):\n",
    "        lengths = {\n",
    "            1: 273523,\n",
    "            2: 125374,\n",
    "            3: 425156,\n",
    "            4: 360256,\n",
    "            5: 256204,\n",
    "            6: 252244,\n",
    "            7: 286978,\n",
    "            8: 372299,\n",
    "            9: 211781\n",
    "        }\n",
    "        \n",
    "        return lengths[self.ds_no]"
   ]
  },
  {
   "cell_type": "code",
   "execution_count": 6,
   "id": "36e25eaf",
   "metadata": {},
   "outputs": [],
   "source": [
    "traindata = NCMAPSSTrainDataset(1, timesteps=10)\n",
    "trainloader = DataLoader(traindata, batch_size=64, shuffle=True, num_workers=16)"
   ]
  },
  {
   "cell_type": "code",
   "execution_count": 7,
   "id": "dc7ecf80",
   "metadata": {},
   "outputs": [
    {
     "name": "stderr",
     "output_type": "stream",
     "text": [
      "100%|██████████████████████████████████████████████████████████████████████████████████████████████████████████████████████████████████████████████████████████████████████████| 7667/7667 [00:40<00:00, 189.58it/s]\n"
     ]
    }
   ],
   "source": [
    "i = 0\n",
    "for i, (X, y) in enumerate(tqdm(trainloader)):\n",
    "    i += 1"
   ]
  },
  {
   "cell_type": "code",
   "execution_count": 14,
   "id": "e2509f7f",
   "metadata": {},
   "outputs": [],
   "source": [
    "traindata = NCMAPSSTestDataset(1, timesteps=50)\n",
    "testloader = DataLoader(traindata, batch_size=32, shuffle=False)"
   ]
  },
  {
   "cell_type": "code",
   "execution_count": 8,
   "id": "e506c858",
   "metadata": {},
   "outputs": [],
   "source": [
    "example = next(enumerate(trainloader))"
   ]
  },
  {
   "cell_type": "code",
   "execution_count": 9,
   "id": "cf1fae35",
   "metadata": {},
   "outputs": [],
   "source": [
    "ex_X = example[1][0]\n",
    "ex_y = example[1][1]"
   ]
  },
  {
   "cell_type": "code",
   "execution_count": 10,
   "id": "e0a4b1d9",
   "metadata": {},
   "outputs": [
    {
     "data": {
      "text/plain": [
       "torch.Size([64, 10, 46])"
      ]
     },
     "execution_count": 10,
     "metadata": {},
     "output_type": "execute_result"
    }
   ],
   "source": [
    "ex_X.shape"
   ]
  },
  {
   "cell_type": "code",
   "execution_count": 11,
   "id": "27e6a9f4",
   "metadata": {},
   "outputs": [
    {
     "data": {
      "text/plain": [
       "[<matplotlib.lines.Line2D at 0x7f3d4c0ecf50>]"
      ]
     },
     "execution_count": 11,
     "metadata": {},
     "output_type": "execute_result"
    },
    {
     "data": {
      "image/png": "[encoded data removed]",
      "text/plain": [
       "<Figure size 640x480 with 1 Axes>"
      ]
     },
     "metadata": {},
     "output_type": "display_data"
    }
   ],
   "source": [
    "plt.plot(ex_X[31,:,1])"
   ]
  },
  {
   "cell_type": "code",
   "execution_count": 12,
   "id": "4d822778",
   "metadata": {},
   "outputs": [
    {
     "data": {
      "text/plain": [
       "torch.Size([64, 1])"
      ]
     },
     "execution_count": 12,
     "metadata": {},
     "output_type": "execute_result"
    }
   ],
   "source": [
    "ex_y.shape"
   ]
  },
  {
   "cell_type": "code",
   "execution_count": 13,
   "id": "0c861fa9",
   "metadata": {},
   "outputs": [
    {
     "data": {
      "text/plain": [
       "[<matplotlib.lines.Line2D at 0x7f3d49df3dd0>]"
      ]
     },
     "execution_count": 13,
     "metadata": {},
     "output_type": "execute_result"
    },
    {
     "data": {
      "image/png": "[encoded data removed]",
      "text/plain": [
       "<Figure size 640x480 with 1 Axes>"
      ]
     },
     "metadata": {},
     "output_type": "display_data"
    }
   ],
   "source": [
    "plt.plot(ex_y)"
   ]
  },
  {
   "cell_type": "code",
   "execution_count": 16,
   "id": "740edafd",
   "metadata": {},
   "outputs": [
    {
     "data": {
      "text/plain": [
       "torch.Size([64, 1])"
      ]
     },
     "execution_count": 16,
     "metadata": {},
     "output_type": "execute_result"
    }
   ],
   "source": [
    "ex_y.shape"
   ]
  },
  {
   "cell_type": "code",
   "execution_count": 15,
   "id": "a8c2e379",
   "metadata": {},
   "outputs": [
    {
     "data": {
      "text/plain": [
       "tensor([[20.],\n",
       "        [59.],\n",
       "        [58.],\n",
       "        [65.],\n",
       "        [59.],\n",
       "        [93.],\n",
       "        [87.],\n",
       "        [92.],\n",
       "        [ 3.],\n",
       "        [45.],\n",
       "        [87.],\n",
       "        [48.],\n",
       "        [70.],\n",
       "        [ 8.],\n",
       "        [69.],\n",
       "        [45.],\n",
       "        [60.],\n",
       "        [91.],\n",
       "        [56.],\n",
       "        [ 4.],\n",
       "        [ 3.],\n",
       "        [40.],\n",
       "        [31.],\n",
       "        [71.],\n",
       "        [13.],\n",
       "        [10.],\n",
       "        [11.],\n",
       "        [70.],\n",
       "        [70.],\n",
       "        [25.],\n",
       "        [75.],\n",
       "        [33.],\n",
       "        [30.],\n",
       "        [56.],\n",
       "        [26.],\n",
       "        [41.],\n",
       "        [58.],\n",
       "        [54.],\n",
       "        [62.],\n",
       "        [77.],\n",
       "        [31.],\n",
       "        [73.],\n",
       "        [80.],\n",
       "        [ 6.],\n",
       "        [12.],\n",
       "        [81.],\n",
       "        [ 5.],\n",
       "        [48.],\n",
       "        [16.],\n",
       "        [42.],\n",
       "        [55.],\n",
       "        [37.],\n",
       "        [68.],\n",
       "        [26.],\n",
       "        [17.],\n",
       "        [24.],\n",
       "        [21.],\n",
       "        [49.],\n",
       "        [ 7.],\n",
       "        [32.],\n",
       "        [23.],\n",
       "        [41.],\n",
       "        [23.],\n",
       "        [56.]])"
      ]
     },
     "execution_count": 15,
     "metadata": {},
     "output_type": "execute_result"
    }
   ],
   "source": [
    "ex_y"
   ]
  }
 ],
 "metadata": {
  "kernelspec": {
   "display_name": "Python 3 (ipykernel)",
   "language": "python",
   "name": "python3"
  },
  "language_info": {
   "codemirror_mode": {
    "name": "ipython",
    "version": 3
   },
   "file_extension": ".py",
   "mimetype": "text/x-python",
   "name": "python",
   "nbconvert_exporter": "python",
   "pygments_lexer": "ipython3",
   "version": "3.11.3"
  }
 },
 "nbformat": 4,
 "nbformat_minor": 5
}
