{
 "cells": [
  {
   "cell_type": "code",
   "execution_count": 1,
   "id": "1a76e18b",
   "metadata": {},
   "outputs": [
    {
     "name": "stderr",
     "output_type": "stream",
     "text": [
      "C:\\Users\\austi\\miniconda3\\envs\\deep_learn\\lib\\site-packages\\tqdm\\auto.py:21: TqdmWarning: IProgress not found. Please update jupyter and ipywidgets. See https://ipywidgets.readthedocs.io/en/stable/user_install.html\n",
      "  from .autonotebook import tqdm as notebook_tqdm\n"
     ]
    }
   ],
   "source": [
    "import torch\n",
    "import torch.nn as nn\n",
    "import numpy as np\n",
    "import matplotlib.pyplot as plt\n",
    "from tqdm import tqdm\n",
    "\n",
    "import DataUtils\n",
    "import Masking"
   ]
  },
  {
   "cell_type": "code",
   "execution_count": 2,
   "id": "827b30db",
   "metadata": {},
   "outputs": [],
   "source": [
    "batch_size = 64"
   ]
  },
  {
   "cell_type": "code",
   "execution_count": 3,
   "id": "6af0594d",
   "metadata": {},
   "outputs": [
    {
     "name": "stdout",
     "output_type": "stream",
     "text": [
      "[False, False, True, True, True, True, True, True, True, True, True, True, True, True, True, True, True, True, True, True, True, True, True, True, True, True, False]\n"
     ]
    }
   ],
   "source": [
    "columns_excluded = [0, 1, 26]\n",
    "columns_kept = [False, False, True, True, True,\n",
    "               True, True, True, True, True,\n",
    "               True, True, True, True, True,\n",
    "               True, True, True, True, True,\n",
    "               True, True, True, True, True,\n",
    "               True, False]\n",
    "print(columns_kept)"
   ]
  },
  {
   "cell_type": "code",
   "execution_count": 4,
   "id": "dc2db1ea",
   "metadata": {},
   "outputs": [],
   "source": [
    "trainloader, testloader = DataUtils.get_dataloaders(batch_size)"
   ]
  },
  {
   "cell_type": "code",
   "execution_count": 5,
   "id": "d3d26ba5",
   "metadata": {},
   "outputs": [],
   "source": [
    "example = next(enumerate(trainloader))"
   ]
  },
  {
   "cell_type": "code",
   "execution_count": 6,
   "id": "39eb91b6",
   "metadata": {},
   "outputs": [
    {
     "name": "stdout",
     "output_type": "stream",
     "text": [
      "torch.Size([64, 543, 27])\n",
      "torch.Size([64, 543])\n"
     ]
    }
   ],
   "source": [
    "ex_X = example[1][0]\n",
    "print(ex_X.shape)\n",
    "\n",
    "ex_y = example[1][1]\n",
    "print(ex_y.shape)"
   ]
  },
  {
   "cell_type": "code",
   "execution_count": 7,
   "id": "f68d2e1a",
   "metadata": {},
   "outputs": [],
   "source": [
    "# Should we use a linear attention transformer?\n",
    "class ImputationTransformer(nn.Module):\n",
    "    def __init__(self, embed_dim):\n",
    "        super().__init__()\n",
    "        \n",
    "        self.input_projection = nn.Linear(543*24, embed_dim)\n",
    "        self.positional_embed = nn.Parameter(torch.randn(embed_dim))\n",
    "        \n",
    "        self.encoder_layer = nn.TransformerEncoderLayer(d_model=embed_dim, nhead=4, activation=\"gelu\")\n",
    "        self.transformer_blocks = nn.TransformerEncoder(self.encoder_layer, num_layers=3)\n",
    "    \n",
    "    def forward(self, x):\n",
    "        x = x.flatten(1)\n",
    "        z = self.input_projection(x)\n",
    "        z = z + self.positional_embed\n",
    "        z = self.transformer_blocks(z)\n",
    "        \n",
    "        return z"
   ]
  },
  {
   "cell_type": "code",
   "execution_count": 8,
   "id": "cf599553",
   "metadata": {},
   "outputs": [],
   "source": [
    "class ReconstructionImputationTransformer(nn.Module):\n",
    "    def __init__(self):\n",
    "        super().__init__()\n",
    "        \n",
    "        self.embed_dim = 128\n",
    "        self.imputation_transformer = ImputationTransformer(self.embed_dim)\n",
    "        self.reconstruction = nn.Sequential(nn.Linear(self.embed_dim, 2048),\n",
    "                                           nn.ReLU(),\n",
    "                                           nn.Linear(2048, 543*24))\n",
    "    \n",
    "    def forward(self, x):\n",
    "        z = self.imputation_transformer(x)\n",
    "        z = self.reconstruction(z)\n",
    "        \n",
    "        return z.view(x.shape[0],543,24)"
   ]
  },
  {
   "cell_type": "code",
   "execution_count": 9,
   "id": "3badfc23",
   "metadata": {},
   "outputs": [
    {
     "data": {
      "text/plain": [
       "torch.Size([64, 543, 24])"
      ]
     },
     "execution_count": 9,
     "metadata": {},
     "output_type": "execute_result"
    }
   ],
   "source": [
    "ex_X[:,:,columns_kept].shape"
   ]
  },
  {
   "cell_type": "code",
   "execution_count": 10,
   "id": "d91118af",
   "metadata": {},
   "outputs": [
    {
     "name": "stdout",
     "output_type": "stream",
     "text": [
      "Num params: 31007208\n"
     ]
    }
   ],
   "source": [
    "r_tran = ReconstructionImputationTransformer()\n",
    "print(\"Num params:\",sum(p.numel() for p in r_tran.parameters() if p.requires_grad))"
   ]
  },
  {
   "cell_type": "code",
   "execution_count": 11,
   "id": "50423578",
   "metadata": {},
   "outputs": [
    {
     "data": {
      "text/plain": [
       "torch.Size([64, 543, 24])"
      ]
     },
     "execution_count": 11,
     "metadata": {},
     "output_type": "execute_result"
    }
   ],
   "source": [
    "r_tran(ex_X[:,:,columns_kept].float()).shape"
   ]
  },
  {
   "cell_type": "markdown",
   "id": "d57544dd",
   "metadata": {},
   "source": [
    "### Training Model"
   ]
  },
  {
   "cell_type": "code",
   "execution_count": 18,
   "id": "9624d60b",
   "metadata": {},
   "outputs": [],
   "source": [
    "def mse_missing(xhat, masked_X, X):\n",
    "    missing_idx = (masked_X==float(-1))\n",
    "    error = xhat[missing_idx] - X[missing_idx]\n",
    "    return torch.mean(torch.pow(error, 2))"
   ]
  },
  {
   "cell_type": "code",
   "execution_count": 20,
   "id": "744c1426",
   "metadata": {},
   "outputs": [
    {
     "name": "stderr",
     "output_type": "stream",
     "text": [
      "100%|██████████████████████████████████████████████████████████████████████████████████| 12/12 [00:41<00:00,  3.45s/it]\n"
     ]
    },
    {
     "name": "stdout",
     "output_type": "stream",
     "text": [
      "Epoch: 1 Loss: 0.6253206146044318\n"
     ]
    },
    {
     "name": "stderr",
     "output_type": "stream",
     "text": [
      "100%|██████████████████████████████████████████████████████████████████████████████████| 12/12 [00:41<00:00,  3.42s/it]\n"
     ]
    },
    {
     "name": "stdout",
     "output_type": "stream",
     "text": [
      "Epoch: 2 Loss: 0.1624236006488136\n"
     ]
    },
    {
     "name": "stderr",
     "output_type": "stream",
     "text": [
      "100%|██████████████████████████████████████████████████████████████████████████████████| 12/12 [00:40<00:00,  3.42s/it]\n"
     ]
    },
    {
     "name": "stdout",
     "output_type": "stream",
     "text": [
      "Epoch: 3 Loss: 0.11043529982404095\n"
     ]
    },
    {
     "name": "stderr",
     "output_type": "stream",
     "text": [
      "100%|██████████████████████████████████████████████████████████████████████████████████| 12/12 [00:41<00:00,  3.42s/it]\n"
     ]
    },
    {
     "name": "stdout",
     "output_type": "stream",
     "text": [
      "Epoch: 4 Loss: 0.12316358998676744\n"
     ]
    },
    {
     "name": "stderr",
     "output_type": "stream",
     "text": [
      "100%|██████████████████████████████████████████████████████████████████████████████████| 12/12 [00:40<00:00,  3.40s/it]\n"
     ]
    },
    {
     "name": "stdout",
     "output_type": "stream",
     "text": [
      "Epoch: 5 Loss: 0.09212257761553334\n"
     ]
    },
    {
     "name": "stderr",
     "output_type": "stream",
     "text": [
      "100%|██████████████████████████████████████████████████████████████████████████████████| 12/12 [00:41<00:00,  3.43s/it]\n"
     ]
    },
    {
     "name": "stdout",
     "output_type": "stream",
     "text": [
      "Epoch: 6 Loss: 0.09098349244764993\n"
     ]
    },
    {
     "name": "stderr",
     "output_type": "stream",
     "text": [
      "100%|██████████████████████████████████████████████████████████████████████████████████| 12/12 [00:40<00:00,  3.40s/it]\n"
     ]
    },
    {
     "name": "stdout",
     "output_type": "stream",
     "text": [
      "Epoch: 7 Loss: 0.10892564556308192\n"
     ]
    },
    {
     "name": "stderr",
     "output_type": "stream",
     "text": [
      "100%|██████████████████████████████████████████████████████████████████████████████████| 12/12 [00:40<00:00,  3.41s/it]\n"
     ]
    },
    {
     "name": "stdout",
     "output_type": "stream",
     "text": [
      "Epoch: 8 Loss: 0.10015179021159874\n"
     ]
    },
    {
     "name": "stderr",
     "output_type": "stream",
     "text": [
      "100%|██████████████████████████████████████████████████████████████████████████████████| 12/12 [00:41<00:00,  3.44s/it]\n"
     ]
    },
    {
     "name": "stdout",
     "output_type": "stream",
     "text": [
      "Epoch: 9 Loss: 0.09640291893483022\n"
     ]
    },
    {
     "name": "stderr",
     "output_type": "stream",
     "text": [
      "100%|██████████████████████████████████████████████████████████████████████████████████| 12/12 [00:41<00:00,  3.43s/it]\n"
     ]
    },
    {
     "name": "stdout",
     "output_type": "stream",
     "text": [
      "Epoch: 10 Loss: 0.08674108527873461\n"
     ]
    },
    {
     "name": "stderr",
     "output_type": "stream",
     "text": [
      "100%|██████████████████████████████████████████████████████████████████████████████████| 12/12 [00:41<00:00,  3.43s/it]\n"
     ]
    },
    {
     "name": "stdout",
     "output_type": "stream",
     "text": [
      "Epoch: 11 Loss: nan\n"
     ]
    },
    {
     "name": "stderr",
     "output_type": "stream",
     "text": [
      "100%|██████████████████████████████████████████████████████████████████████████████████| 12/12 [00:41<00:00,  3.44s/it]\n"
     ]
    },
    {
     "name": "stdout",
     "output_type": "stream",
     "text": [
      "Epoch: 12 Loss: 0.08549292594868449\n"
     ]
    },
    {
     "name": "stderr",
     "output_type": "stream",
     "text": [
      "100%|██████████████████████████████████████████████████████████████████████████████████| 12/12 [00:40<00:00,  3.41s/it]\n"
     ]
    },
    {
     "name": "stdout",
     "output_type": "stream",
     "text": [
      "Epoch: 13 Loss: 0.08519130823681727\n"
     ]
    },
    {
     "name": "stderr",
     "output_type": "stream",
     "text": [
      "100%|██████████████████████████████████████████████████████████████████████████████████| 12/12 [00:40<00:00,  3.40s/it]\n"
     ]
    },
    {
     "name": "stdout",
     "output_type": "stream",
     "text": [
      "Epoch: 14 Loss: 0.09209803922858927\n"
     ]
    },
    {
     "name": "stderr",
     "output_type": "stream",
     "text": [
      "100%|██████████████████████████████████████████████████████████████████████████████████| 12/12 [00:41<00:00,  3.43s/it]\n"
     ]
    },
    {
     "name": "stdout",
     "output_type": "stream",
     "text": [
      "Epoch: 15 Loss: 0.08527254878290094\n"
     ]
    },
    {
     "name": "stderr",
     "output_type": "stream",
     "text": [
      "100%|██████████████████████████████████████████████████████████████████████████████████| 12/12 [00:40<00:00,  3.42s/it]\n"
     ]
    },
    {
     "name": "stdout",
     "output_type": "stream",
     "text": [
      "Epoch: 16 Loss: 0.08561500466670084\n"
     ]
    },
    {
     "name": "stderr",
     "output_type": "stream",
     "text": [
      "100%|██████████████████████████████████████████████████████████████████████████████████| 12/12 [00:40<00:00,  3.41s/it]\n"
     ]
    },
    {
     "name": "stdout",
     "output_type": "stream",
     "text": [
      "Epoch: 17 Loss: 0.08067852747798443\n"
     ]
    },
    {
     "name": "stderr",
     "output_type": "stream",
     "text": [
      "100%|██████████████████████████████████████████████████████████████████████████████████| 12/12 [00:40<00:00,  3.42s/it]\n"
     ]
    },
    {
     "name": "stdout",
     "output_type": "stream",
     "text": [
      "Epoch: 18 Loss: nan\n"
     ]
    },
    {
     "name": "stderr",
     "output_type": "stream",
     "text": [
      "100%|██████████████████████████████████████████████████████████████████████████████████| 12/12 [00:41<00:00,  3.43s/it]\n"
     ]
    },
    {
     "name": "stdout",
     "output_type": "stream",
     "text": [
      "Epoch: 19 Loss: 0.0727258273663166\n"
     ]
    },
    {
     "name": "stderr",
     "output_type": "stream",
     "text": [
      "100%|██████████████████████████████████████████████████████████████████████████████████| 12/12 [00:40<00:00,  3.40s/it]\n"
     ]
    },
    {
     "name": "stdout",
     "output_type": "stream",
     "text": [
      "Epoch: 20 Loss: 0.09600340574432478\n"
     ]
    },
    {
     "name": "stderr",
     "output_type": "stream",
     "text": [
      "100%|██████████████████████████████████████████████████████████████████████████████████| 12/12 [00:41<00:00,  3.47s/it]\n"
     ]
    },
    {
     "name": "stdout",
     "output_type": "stream",
     "text": [
      "Epoch: 21 Loss: 0.07744410194964554\n"
     ]
    },
    {
     "name": "stderr",
     "output_type": "stream",
     "text": [
      "100%|██████████████████████████████████████████████████████████████████████████████████| 12/12 [00:40<00:00,  3.41s/it]\n"
     ]
    },
    {
     "name": "stdout",
     "output_type": "stream",
     "text": [
      "Epoch: 22 Loss: 0.0841874387449469\n"
     ]
    },
    {
     "name": "stderr",
     "output_type": "stream",
     "text": [
      "100%|██████████████████████████████████████████████████████████████████████████████████| 12/12 [00:40<00:00,  3.41s/it]\n"
     ]
    },
    {
     "name": "stdout",
     "output_type": "stream",
     "text": [
      "Epoch: 23 Loss: 0.09078380948977097\n"
     ]
    },
    {
     "name": "stderr",
     "output_type": "stream",
     "text": [
      "100%|██████████████████████████████████████████████████████████████████████████████████| 12/12 [00:41<00:00,  3.42s/it]\n"
     ]
    },
    {
     "name": "stdout",
     "output_type": "stream",
     "text": [
      "Epoch: 24 Loss: 0.07873418551169832\n"
     ]
    },
    {
     "name": "stderr",
     "output_type": "stream",
     "text": [
      "100%|██████████████████████████████████████████████████████████████████████████████████| 12/12 [00:40<00:00,  3.40s/it]"
     ]
    },
    {
     "name": "stdout",
     "output_type": "stream",
     "text": [
      "Epoch: 25 Loss: 0.09182333091387276\n"
     ]
    },
    {
     "name": "stderr",
     "output_type": "stream",
     "text": [
      "\n"
     ]
    }
   ],
   "source": [
    "objective = mse_missing\n",
    "\n",
    "r_tran = ReconstructionImputationTransformer()\n",
    "\n",
    "lr = 1e-4\n",
    "n_epochs = 25\n",
    "optim = torch.optim.Adam(r_tran.parameters(), lr=lr)\n",
    "losses = []\n",
    "\n",
    "for n in range(n_epochs):\n",
    "    counter = 0\n",
    "    for i, (X, y) in enumerate(tqdm(trainloader)):\n",
    "        \n",
    "        masked_X = Masking.mask_input(X)\n",
    "        optim.zero_grad()\n",
    "        xhat = r_tran(masked_X[:,:,columns_kept].float())\n",
    "        loss = objective(xhat, masked_X[:,:,columns_kept], X[:,:,columns_kept])\n",
    "        loss.backward()\n",
    "        losses.append(loss.item())\n",
    "        optim.step()\n",
    "        counter += 1\n",
    "        \n",
    "    print(\"Epoch:\", n+1, \"Loss:\",np.mean(losses[-counter:][0]))"
   ]
  },
  {
   "cell_type": "code",
   "execution_count": 83,
   "id": "bfd19ac9",
   "metadata": {},
   "outputs": [],
   "source": [
    "torch.save(r_tran.state_dict(), './saved_models/imputation_transformer_prototype.pt')"
   ]
  },
  {
   "cell_type": "code",
   "execution_count": 21,
   "id": "39d4dfb6",
   "metadata": {},
   "outputs": [
    {
     "name": "stderr",
     "output_type": "stream",
     "text": [
      "100%|██████████████████████████████████████████████████████████████████████████████████| 12/12 [00:20<00:00,  1.73s/it]"
     ]
    },
    {
     "name": "stdout",
     "output_type": "stream",
     "text": [
      "Test MSE: 0.08231343401706971\n"
     ]
    },
    {
     "name": "stderr",
     "output_type": "stream",
     "text": [
      "\n"
     ]
    }
   ],
   "source": [
    "test_mses = []\n",
    "with torch.no_grad():\n",
    "    for i, (X, y) in enumerate(tqdm(testloader)):\n",
    "            masked_X = Masking.mask_input(X)\n",
    "            xhat = r_tran(masked_X[:,:,columns_kept].float())\n",
    "            test_mse = mse_missing(xhat, masked_X[:,:,columns_kept], X[:,:,columns_kept])\n",
    "            test_mses.append(test_mse.item())\n",
    "print(\"Test MSE:\", np.mean(test_mses))"
   ]
  },
  {
   "cell_type": "code",
   "execution_count": 54,
   "id": "9cd14a05",
   "metadata": {},
   "outputs": [],
   "source": [
    "import pandas as pd"
   ]
  },
  {
   "cell_type": "code",
   "execution_count": 75,
   "id": "7d4e552c",
   "metadata": {},
   "outputs": [],
   "source": [
    "def interpolate(tensor):\n",
    "    interpolated = []\n",
    "    for i in range(tensor.shape[0]):\n",
    "        df = pd.DataFrame(tensor[i])\n",
    "        df[df == -1] = float('nan')\n",
    "        df = df.interpolate(method='linear', axis=0).fillna(method='bfill')\n",
    "        interpolated.append(df.to_numpy())\n",
    "        \n",
    "    return torch.FloatTensor(np.array(interpolated))"
   ]
  },
  {
   "cell_type": "code",
   "execution_count": 76,
   "id": "b781b8bf",
   "metadata": {},
   "outputs": [
    {
     "name": "stderr",
     "output_type": "stream",
     "text": [
      "100%|██████████████████████████████████████████████████████████████████████████████████| 12/12 [00:02<00:00,  5.17it/s]"
     ]
    },
    {
     "name": "stdout",
     "output_type": "stream",
     "text": [
      "Test MSE: 0.13215842927828966\n"
     ]
    },
    {
     "name": "stderr",
     "output_type": "stream",
     "text": [
      "\n"
     ]
    }
   ],
   "source": [
    "test_mses = []\n",
    "for i, (X, y) in enumerate(tqdm(testloader)):\n",
    "        masked_X = Masking.mask_input(X)\n",
    "        xhat = interpolate(masked_X[:,:,columns_kept])\n",
    "        test_mse = mse_missing(xhat, masked_X[:,:,columns_kept], X[:,:,columns_kept])\n",
    "        test_mses.append(test_mse.item())\n",
    "print(\"Test MSE:\", np.mean(test_mses))"
   ]
  },
  {
   "cell_type": "code",
   "execution_count": 79,
   "id": "9fbd00e4",
   "metadata": {},
   "outputs": [],
   "source": [
    "def backfill_impute(tensor):\n",
    "    interpolated = []\n",
    "    for i in range(tensor.shape[0]):\n",
    "        df = pd.DataFrame(tensor[i])\n",
    "        df[df == -1] = float('nan')\n",
    "        df = df.fillna(method='bfill').fillna(method='ffill')\n",
    "        interpolated.append(df.to_numpy())\n",
    "        \n",
    "    return torch.FloatTensor(np.array(interpolated))"
   ]
  },
  {
   "cell_type": "code",
   "execution_count": 80,
   "id": "5f824e4b",
   "metadata": {},
   "outputs": [
    {
     "name": "stderr",
     "output_type": "stream",
     "text": [
      "100%|██████████████████████████████████████████████████████████████████████████████████| 12/12 [00:01<00:00,  9.70it/s]"
     ]
    },
    {
     "name": "stdout",
     "output_type": "stream",
     "text": [
      "Test MSE: 0.1667811141694234\n"
     ]
    },
    {
     "name": "stderr",
     "output_type": "stream",
     "text": [
      "\n"
     ]
    }
   ],
   "source": [
    "test_mses = []\n",
    "for i, (X, y) in enumerate(tqdm(testloader)):\n",
    "        masked_X = Masking.mask_input(X)\n",
    "        xhat = backfill_impute(masked_X[:,:,columns_kept])\n",
    "        test_mse = mse_missing(xhat, masked_X[:,:,columns_kept], X[:,:,columns_kept])\n",
    "        test_mses.append(test_mse.item())\n",
    "print(\"Test MSE:\", np.mean(test_mses))"
   ]
  }
 ],
 "metadata": {
  "kernelspec": {
   "display_name": "Python 3 (ipykernel)",
   "language": "python",
   "name": "python3"
  },
  "language_info": {
   "codemirror_mode": {
    "name": "ipython",
    "version": 3
   },
   "file_extension": ".py",
   "mimetype": "text/x-python",
   "name": "python",
   "nbconvert_exporter": "python",
   "pygments_lexer": "ipython3",
   "version": "3.10.9"
  }
 },
 "nbformat": 4,
 "nbformat_minor": 5
}
