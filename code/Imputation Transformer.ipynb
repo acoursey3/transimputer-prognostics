{
 "cells": [
  {
   "cell_type": "code",
   "execution_count": 1,
   "id": "1a76e18b",
   "metadata": {},
   "outputs": [
    {
     "name": "stderr",
     "output_type": "stream",
     "text": [
      "C:\\Users\\austi\\miniconda3\\envs\\deep_learn\\lib\\site-packages\\tqdm\\auto.py:21: TqdmWarning: IProgress not found. Please update jupyter and ipywidgets. See https://ipywidgets.readthedocs.io/en/stable/user_install.html\n",
      "  from .autonotebook import tqdm as notebook_tqdm\n"
     ]
    }
   ],
   "source": [
    "import torch\n",
    "import torch.nn as nn\n",
    "import numpy as np\n",
    "import matplotlib.pyplot as plt\n",
    "from tqdm import tqdm\n",
    "\n",
    "import DataUtils\n",
    "import Masking"
   ]
  },
  {
   "cell_type": "code",
   "execution_count": 2,
   "id": "827b30db",
   "metadata": {},
   "outputs": [],
   "source": [
    "batch_size = 64"
   ]
  },
  {
   "cell_type": "code",
   "execution_count": 3,
   "id": "6af0594d",
   "metadata": {},
   "outputs": [
    {
     "name": "stdout",
     "output_type": "stream",
     "text": [
      "[False, False, True, True, True, True, True, True, True, True, True, True, True, True, True, True, True, True, True, True, True, True, True, True, True, True, False]\n"
     ]
    }
   ],
   "source": [
    "columns_excluded = [0, 1, 26]\n",
    "columns_kept = [False, False, True, True, True,\n",
    "               True, True, True, True, True,\n",
    "               True, True, True, True, True,\n",
    "               True, True, True, True, True,\n",
    "               True, True, True, True, True,\n",
    "               True, False]\n",
    "print(columns_kept)"
   ]
  },
  {
   "cell_type": "code",
   "execution_count": 4,
   "id": "dc2db1ea",
   "metadata": {},
   "outputs": [],
   "source": [
    "trainloader, testloader = DataUtils.get_dataloaders(batch_size)"
   ]
  },
  {
   "cell_type": "code",
   "execution_count": 5,
   "id": "d3d26ba5",
   "metadata": {},
   "outputs": [],
   "source": [
    "example = next(enumerate(trainloader))"
   ]
  },
  {
   "cell_type": "code",
   "execution_count": 6,
   "id": "39eb91b6",
   "metadata": {},
   "outputs": [
    {
     "name": "stdout",
     "output_type": "stream",
     "text": [
      "torch.Size([64, 543, 27])\n",
      "torch.Size([64, 543])\n"
     ]
    }
   ],
   "source": [
    "ex_X = example[1][0]\n",
    "print(ex_X.shape)\n",
    "\n",
    "ex_y = example[1][1]\n",
    "print(ex_y.shape)"
   ]
  },
  {
   "cell_type": "code",
   "execution_count": 7,
   "id": "f68d2e1a",
   "metadata": {},
   "outputs": [],
   "source": [
    "# Should we use a linear attention transformer?\n",
    "class ImputationTransformer(nn.Module):\n",
    "    def __init__(self, embed_dim):\n",
    "        super().__init__()\n",
    "        \n",
    "        self.input_projection = nn.Linear(543*24, embed_dim)\n",
    "        self.positional_embed = nn.Parameter(torch.randn(embed_dim))\n",
    "        \n",
    "        self.encoder_layer = nn.TransformerEncoderLayer(d_model=embed_dim, nhead=4, activation=\"gelu\")\n",
    "        self.transformer_blocks = nn.TransformerEncoder(self.encoder_layer, num_layers=3)\n",
    "    \n",
    "    def forward(self, x):\n",
    "        x = x.flatten(1)\n",
    "        z = self.input_projection(x)\n",
    "        z = z + self.positional_embed\n",
    "        z = self.transformer_blocks(z)\n",
    "        \n",
    "        return z"
   ]
  },
  {
   "cell_type": "code",
   "execution_count": 8,
   "id": "cf599553",
   "metadata": {},
   "outputs": [],
   "source": [
    "class ReconstructionImputationTransformer(nn.Module):\n",
    "    def __init__(self):\n",
    "        super().__init__()\n",
    "        \n",
    "        self.embed_dim = 128\n",
    "        self.imputation_transformer = ImputationTransformer(self.embed_dim)\n",
    "        self.reconstruction = nn.Sequential(nn.Linear(self.embed_dim, 2048),\n",
    "                                           nn.ReLU(),\n",
    "                                           nn.Linear(2048, 543*24))\n",
    "    \n",
    "    def forward(self, x):\n",
    "        z = self.imputation_transformer(x)\n",
    "        z = self.reconstruction(z)\n",
    "        \n",
    "        return z.view(x.shape[0],543,24)"
   ]
  },
  {
   "cell_type": "code",
   "execution_count": 9,
   "id": "3badfc23",
   "metadata": {},
   "outputs": [
    {
     "data": {
      "text/plain": [
       "torch.Size([64, 543, 24])"
      ]
     },
     "execution_count": 9,
     "metadata": {},
     "output_type": "execute_result"
    }
   ],
   "source": [
    "ex_X[:,:,columns_kept].shape"
   ]
  },
  {
   "cell_type": "code",
   "execution_count": 10,
   "id": "d91118af",
   "metadata": {},
   "outputs": [
    {
     "name": "stdout",
     "output_type": "stream",
     "text": [
      "Num params: 31007208\n"
     ]
    }
   ],
   "source": [
    "r_tran = ReconstructionImputationTransformer()\n",
    "print(\"Num params:\",sum(p.numel() for p in r_tran.parameters() if p.requires_grad))"
   ]
  },
  {
   "cell_type": "code",
   "execution_count": 11,
   "id": "50423578",
   "metadata": {},
   "outputs": [
    {
     "data": {
      "text/plain": [
       "torch.Size([64, 543, 24])"
      ]
     },
     "execution_count": 11,
     "metadata": {},
     "output_type": "execute_result"
    }
   ],
   "source": [
    "r_tran(ex_X[:,:,columns_kept].float()).shape"
   ]
  },
  {
   "cell_type": "markdown",
   "id": "d57544dd",
   "metadata": {},
   "source": [
    "### Training Model"
   ]
  },
  {
   "cell_type": "code",
   "execution_count": null,
   "id": "9624d60b",
   "metadata": {},
   "outputs": [],
   "source": [
    "def mse_missing(xhat, masked_X, X):\n",
    "    missing_idx = (masked_X==float(-1))\n",
    "    error = xhat[missing_idx] - X[missing_idx]\n",
    "    return torch.mean(torch.pow(error, 2))"
   ]
  },
  {
   "cell_type": "code",
   "execution_count": 13,
   "id": "744c1426",
   "metadata": {},
   "outputs": [
    {
     "name": "stderr",
     "output_type": "stream",
     "text": [
      "\r",
      "  0%|                                                                                           | 0/12 [00:00<?, ?it/s]"
     ]
    },
    {
     "name": "stdout",
     "output_type": "stream",
     "text": [
      "tensor([-0.6659, -0.4141,  0.0926,  ..., -1.0164, -0.0238, -0.4041],\n",
      "       dtype=torch.float64, grad_fn=<SubBackward0>)\n",
      "tensor(0.4277, dtype=torch.float64, grad_fn=<MeanBackward0>)\n"
     ]
    },
    {
     "name": "stderr",
     "output_type": "stream",
     "text": [
      "\r",
      "  8%|██████▉                                                                            | 1/12 [00:03<00:40,  3.70s/it]"
     ]
    },
    {
     "name": "stdout",
     "output_type": "stream",
     "text": [
      "tensor([-0.8668, -0.9383, -0.9288,  ..., -0.0895, -0.1473, -0.1360],\n",
      "       dtype=torch.float64, grad_fn=<SubBackward0>)\n",
      "tensor(0.3640, dtype=torch.float64, grad_fn=<MeanBackward0>)\n"
     ]
    },
    {
     "name": "stderr",
     "output_type": "stream",
     "text": [
      "\r",
      " 17%|█████████████▊                                                                     | 2/12 [00:07<00:36,  3.69s/it]"
     ]
    },
    {
     "name": "stdout",
     "output_type": "stream",
     "text": [
      "tensor([-0.3076, -0.0623, -0.1278,  ..., -0.6020,  0.0729, -0.7282],\n",
      "       dtype=torch.float64, grad_fn=<SubBackward0>)\n",
      "tensor(0.3554, dtype=torch.float64, grad_fn=<MeanBackward0>)\n"
     ]
    },
    {
     "name": "stderr",
     "output_type": "stream",
     "text": [
      "\r",
      " 25%|████████████████████▊                                                              | 3/12 [00:11<00:33,  3.72s/it]"
     ]
    },
    {
     "name": "stdout",
     "output_type": "stream",
     "text": [
      "tensor([-0.1795, -0.1946, -0.8323,  ...,  0.2172, -0.3710, -0.6059],\n",
      "       dtype=torch.float64, grad_fn=<SubBackward0>)\n",
      "tensor(0.2996, dtype=torch.float64, grad_fn=<MeanBackward0>)\n"
     ]
    },
    {
     "name": "stderr",
     "output_type": "stream",
     "text": [
      "\r",
      " 33%|███████████████████████████▋                                                       | 4/12 [00:14<00:29,  3.72s/it]"
     ]
    },
    {
     "name": "stdout",
     "output_type": "stream",
     "text": [
      "tensor([-0.5821, -0.8921, -0.1407,  ..., -0.9583, -0.6301, -0.9998],\n",
      "       dtype=torch.float64, grad_fn=<SubBackward0>)\n",
      "tensor(0.2933, dtype=torch.float64, grad_fn=<MeanBackward0>)\n"
     ]
    },
    {
     "name": "stderr",
     "output_type": "stream",
     "text": [
      "\r",
      " 42%|██████████████████████████████████▌                                                | 5/12 [00:18<00:25,  3.70s/it]"
     ]
    },
    {
     "name": "stdout",
     "output_type": "stream",
     "text": [
      "tensor([-0.2359, -0.1642,  0.0438,  ..., -0.9795, -0.1067, -0.7473],\n",
      "       dtype=torch.float64, grad_fn=<SubBackward0>)\n",
      "tensor(0.2637, dtype=torch.float64, grad_fn=<MeanBackward0>)\n"
     ]
    },
    {
     "name": "stderr",
     "output_type": "stream",
     "text": [
      "\r",
      " 50%|█████████████████████████████████████████▌                                         | 6/12 [00:22<00:22,  3.72s/it]"
     ]
    },
    {
     "name": "stdout",
     "output_type": "stream",
     "text": [
      "tensor([-0.4503, -0.3309,  0.1367,  ..., -0.6395, -0.4720, -0.1877],\n",
      "       dtype=torch.float64, grad_fn=<SubBackward0>)\n",
      "tensor(0.2135, dtype=torch.float64, grad_fn=<MeanBackward0>)\n"
     ]
    },
    {
     "name": "stderr",
     "output_type": "stream",
     "text": [
      "\r",
      " 58%|████████████████████████████████████████████████▍                                  | 7/12 [00:26<00:18,  3.74s/it]"
     ]
    },
    {
     "name": "stdout",
     "output_type": "stream",
     "text": [
      "tensor([-0.4125, -0.8267, -0.0170,  ..., -0.3172, -0.8836, -0.2521],\n",
      "       dtype=torch.float64, grad_fn=<SubBackward0>)\n",
      "tensor(0.1962, dtype=torch.float64, grad_fn=<MeanBackward0>)\n"
     ]
    },
    {
     "name": "stderr",
     "output_type": "stream",
     "text": [
      "\r",
      " 67%|███████████████████████████████████████████████████████▎                           | 8/12 [00:29<00:14,  3.71s/it]"
     ]
    },
    {
     "name": "stdout",
     "output_type": "stream",
     "text": [
      "tensor([-0.5123,  0.1828,  0.4844,  ..., -0.5734,  0.2191,  0.3788],\n",
      "       dtype=torch.float64, grad_fn=<SubBackward0>)\n",
      "tensor(0.1904, dtype=torch.float64, grad_fn=<MeanBackward0>)\n"
     ]
    },
    {
     "name": "stderr",
     "output_type": "stream",
     "text": [
      "\r",
      " 75%|██████████████████████████████████████████████████████████████▎                    | 9/12 [00:33<00:11,  3.69s/it]"
     ]
    },
    {
     "name": "stdout",
     "output_type": "stream",
     "text": [
      "tensor([-0.5666, -0.9447, -0.8487,  ..., -0.5005, -0.5979, -0.5830],\n",
      "       dtype=torch.float64, grad_fn=<SubBackward0>)\n",
      "tensor(0.1630, dtype=torch.float64, grad_fn=<MeanBackward0>)\n"
     ]
    },
    {
     "name": "stderr",
     "output_type": "stream",
     "text": [
      "\r",
      " 83%|████████████████████████████████████████████████████████████████████▎             | 10/12 [00:37<00:07,  3.67s/it]"
     ]
    },
    {
     "name": "stdout",
     "output_type": "stream",
     "text": [
      "tensor([ 0.0572, -0.8823, -0.0290,  ..., -0.7073, -0.4913,  0.2169],\n",
      "       dtype=torch.float64, grad_fn=<SubBackward0>)\n",
      "tensor(0.2111, dtype=torch.float64, grad_fn=<MeanBackward0>)\n"
     ]
    },
    {
     "name": "stderr",
     "output_type": "stream",
     "text": [
      "\r",
      " 92%|███████████████████████████████████████████████████████████████████████████▏      | 11/12 [00:40<00:03,  3.67s/it]"
     ]
    },
    {
     "name": "stdout",
     "output_type": "stream",
     "text": [
      "tensor([-0.7753, -0.7318, -0.7390,  ...,  0.3144,  0.2860,  0.1414],\n",
      "       dtype=torch.float64, grad_fn=<SubBackward0>)\n",
      "tensor(0.1539, dtype=torch.float64, grad_fn=<MeanBackward0>)\n"
     ]
    },
    {
     "name": "stderr",
     "output_type": "stream",
     "text": [
      "100%|██████████████████████████████████████████████████████████████████████████████████| 12/12 [00:41<00:00,  3.43s/it]\n"
     ]
    },
    {
     "name": "stdout",
     "output_type": "stream",
     "text": [
      "Epoch: 1 Loss: 0.42772562746347287\n"
     ]
    },
    {
     "name": "stderr",
     "output_type": "stream",
     "text": [
      "\r",
      "  0%|                                                                                           | 0/12 [00:00<?, ?it/s]"
     ]
    },
    {
     "name": "stdout",
     "output_type": "stream",
     "text": [
      "tensor([ 0.3747,  0.3296, -0.3179,  ...,  0.8463, -0.1998, -0.1929],\n",
      "       dtype=torch.float64, grad_fn=<SubBackward0>)\n",
      "tensor(0.1472, dtype=torch.float64, grad_fn=<MeanBackward0>)\n"
     ]
    },
    {
     "name": "stderr",
     "output_type": "stream",
     "text": [
      "\r",
      "  8%|██████▉                                                                            | 1/12 [00:03<00:41,  3.75s/it]"
     ]
    },
    {
     "name": "stdout",
     "output_type": "stream",
     "text": [
      "tensor([-0.1296, -0.2841,  0.5887,  ..., -0.7630, -0.4738, -0.0096],\n",
      "       dtype=torch.float64, grad_fn=<SubBackward0>)\n",
      "tensor(0.1408, dtype=torch.float64, grad_fn=<MeanBackward0>)\n"
     ]
    },
    {
     "name": "stderr",
     "output_type": "stream",
     "text": [
      "\r",
      " 17%|█████████████▊                                                                     | 2/12 [00:07<00:36,  3.69s/it]"
     ]
    },
    {
     "name": "stdout",
     "output_type": "stream",
     "text": [
      "tensor([-0.4470, -0.7758, -0.5148,  ...,  0.2976,  0.1224,  0.3410],\n",
      "       dtype=torch.float64, grad_fn=<SubBackward0>)\n",
      "tensor(0.1372, dtype=torch.float64, grad_fn=<MeanBackward0>)\n"
     ]
    },
    {
     "name": "stderr",
     "output_type": "stream",
     "text": [
      "\r",
      " 25%|████████████████████▊                                                              | 3/12 [00:11<00:33,  3.74s/it]"
     ]
    },
    {
     "name": "stdout",
     "output_type": "stream",
     "text": [
      "tensor([-0.2373, -0.3620, -0.4558,  ...,  0.6442, -0.2932, -0.1955],\n",
      "       dtype=torch.float64, grad_fn=<SubBackward0>)\n",
      "tensor(0.1406, dtype=torch.float64, grad_fn=<MeanBackward0>)\n"
     ]
    },
    {
     "name": "stderr",
     "output_type": "stream",
     "text": [
      "\r",
      " 33%|███████████████████████████▋                                                       | 4/12 [00:14<00:29,  3.70s/it]"
     ]
    },
    {
     "name": "stdout",
     "output_type": "stream",
     "text": [
      "tensor([-0.2777, -0.7041, -0.6452,  ...,  0.6392,  0.0633, -0.3459],\n",
      "       dtype=torch.float64, grad_fn=<SubBackward0>)\n",
      "tensor(0.1136, dtype=torch.float64, grad_fn=<MeanBackward0>)\n"
     ]
    },
    {
     "name": "stderr",
     "output_type": "stream",
     "text": [
      "\r",
      " 42%|██████████████████████████████████▌                                                | 5/12 [00:18<00:25,  3.70s/it]"
     ]
    },
    {
     "name": "stdout",
     "output_type": "stream",
     "text": [
      "tensor([ 0.6659,  0.7604, -0.0184,  ..., -0.5226, -0.1106, -0.0814],\n",
      "       dtype=torch.float64, grad_fn=<SubBackward0>)\n",
      "tensor(0.1286, dtype=torch.float64, grad_fn=<MeanBackward0>)\n"
     ]
    },
    {
     "name": "stderr",
     "output_type": "stream",
     "text": [
      "\r",
      " 50%|█████████████████████████████████████████▌                                         | 6/12 [00:22<00:22,  3.73s/it]"
     ]
    },
    {
     "name": "stdout",
     "output_type": "stream",
     "text": [
      "tensor([], dtype=torch.float64, grad_fn=<SubBackward0>)\n",
      "tensor(nan, dtype=torch.float64, grad_fn=<MeanBackward0>)\n"
     ]
    },
    {
     "name": "stderr",
     "output_type": "stream",
     "text": [
      "\r",
      " 58%|████████████████████████████████████████████████▍                                  | 7/12 [00:26<00:18,  3.75s/it]"
     ]
    },
    {
     "name": "stdout",
     "output_type": "stream",
     "text": [
      "tensor([-0.3427, -0.3706, -0.0587,  ...,  0.3783,  0.2690,  0.3239],\n",
      "       dtype=torch.float64, grad_fn=<SubBackward0>)\n",
      "tensor(0.1309, dtype=torch.float64, grad_fn=<MeanBackward0>)\n"
     ]
    },
    {
     "name": "stderr",
     "output_type": "stream",
     "text": [
      "\r",
      " 67%|███████████████████████████████████████████████████████▎                           | 8/12 [00:29<00:15,  3.78s/it]"
     ]
    },
    {
     "name": "stdout",
     "output_type": "stream",
     "text": [
      "tensor([ 0.3319,  0.3067,  0.6309,  ..., -0.0947, -0.5314,  0.2723],\n",
      "       dtype=torch.float64, grad_fn=<SubBackward0>)\n",
      "tensor(0.1178, dtype=torch.float64, grad_fn=<MeanBackward0>)\n"
     ]
    },
    {
     "name": "stderr",
     "output_type": "stream",
     "text": [
      "\r",
      " 75%|██████████████████████████████████████████████████████████████▎                    | 9/12 [00:33<00:11,  3.81s/it]"
     ]
    },
    {
     "name": "stdout",
     "output_type": "stream",
     "text": [
      "tensor([ 0.0277, -0.2443,  0.3483,  ...,  0.4118, -0.3974, -0.3479],\n",
      "       dtype=torch.float64, grad_fn=<SubBackward0>)\n",
      "tensor(0.1097, dtype=torch.float64, grad_fn=<MeanBackward0>)\n"
     ]
    },
    {
     "name": "stderr",
     "output_type": "stream",
     "text": [
      "\r",
      " 83%|████████████████████████████████████████████████████████████████████▎             | 10/12 [00:37<00:07,  3.78s/it]"
     ]
    },
    {
     "name": "stdout",
     "output_type": "stream",
     "text": [
      "tensor([ 0.0920, -0.3416, -0.2260,  ...,  0.0789,  0.3705,  0.6778],\n",
      "       dtype=torch.float64, grad_fn=<SubBackward0>)\n",
      "tensor(0.1046, dtype=torch.float64, grad_fn=<MeanBackward0>)\n"
     ]
    },
    {
     "name": "stderr",
     "output_type": "stream",
     "text": [
      "\r",
      " 92%|███████████████████████████████████████████████████████████████████████████▏      | 11/12 [00:41<00:03,  3.78s/it]"
     ]
    },
    {
     "name": "stdout",
     "output_type": "stream",
     "text": [
      "tensor([-0.4682, -0.4599, -0.0912,  ...,  0.3756, -0.2778, -0.2307],\n",
      "       dtype=torch.float64, grad_fn=<SubBackward0>)\n",
      "tensor(0.1276, dtype=torch.float64, grad_fn=<MeanBackward0>)\n"
     ]
    },
    {
     "name": "stderr",
     "output_type": "stream",
     "text": [
      "100%|██████████████████████████████████████████████████████████████████████████████████| 12/12 [00:41<00:00,  3.49s/it]\n"
     ]
    },
    {
     "name": "stdout",
     "output_type": "stream",
     "text": [
      "Epoch: 2 Loss: 0.14724182338359063\n"
     ]
    },
    {
     "name": "stderr",
     "output_type": "stream",
     "text": [
      "\r",
      "  0%|                                                                                           | 0/12 [00:00<?, ?it/s]"
     ]
    },
    {
     "name": "stdout",
     "output_type": "stream",
     "text": [
      "tensor([ 0.3112, -0.2100, -0.2971,  ..., -0.6171,  0.3241, -0.3835],\n",
      "       dtype=torch.float64, grad_fn=<SubBackward0>)\n",
      "tensor(0.1076, dtype=torch.float64, grad_fn=<MeanBackward0>)\n"
     ]
    },
    {
     "name": "stderr",
     "output_type": "stream",
     "text": [
      "\r",
      "  8%|██████▉                                                                            | 1/12 [00:03<00:40,  3.69s/it]"
     ]
    },
    {
     "name": "stdout",
     "output_type": "stream",
     "text": [
      "tensor([ 0.2136,  0.0238, -0.0075,  ..., -0.0238,  0.4858,  0.3004],\n",
      "       dtype=torch.float64, grad_fn=<SubBackward0>)\n",
      "tensor(0.1044, dtype=torch.float64, grad_fn=<MeanBackward0>)\n"
     ]
    },
    {
     "name": "stderr",
     "output_type": "stream",
     "text": [
      "\r",
      " 17%|█████████████▊                                                                     | 2/12 [00:07<00:37,  3.75s/it]"
     ]
    },
    {
     "name": "stdout",
     "output_type": "stream",
     "text": [
      "tensor([-0.2275, -0.3810, -0.2779,  ...,  0.0849,  0.1816, -0.2654],\n",
      "       dtype=torch.float64, grad_fn=<SubBackward0>)\n",
      "tensor(0.0975, dtype=torch.float64, grad_fn=<MeanBackward0>)\n"
     ]
    },
    {
     "name": "stderr",
     "output_type": "stream",
     "text": [
      "\r",
      " 25%|████████████████████▊                                                              | 3/12 [00:11<00:33,  3.77s/it]"
     ]
    },
    {
     "name": "stdout",
     "output_type": "stream",
     "text": [
      "tensor([ 0.4087, -0.0975,  0.0608,  ...,  0.1465,  0.3867,  0.4058],\n",
      "       dtype=torch.float64, grad_fn=<SubBackward0>)\n",
      "tensor(0.0989, dtype=torch.float64, grad_fn=<MeanBackward0>)\n"
     ]
    },
    {
     "name": "stderr",
     "output_type": "stream",
     "text": [
      "\r",
      " 33%|███████████████████████████▋                                                       | 4/12 [00:15<00:30,  3.76s/it]"
     ]
    },
    {
     "name": "stdout",
     "output_type": "stream",
     "text": [
      "tensor([-0.3138, -0.3460, -0.0160,  ..., -0.2931, -0.5374, -0.5672],\n",
      "       dtype=torch.float64, grad_fn=<SubBackward0>)\n",
      "tensor(0.1214, dtype=torch.float64, grad_fn=<MeanBackward0>)\n"
     ]
    },
    {
     "name": "stderr",
     "output_type": "stream",
     "text": [
      "\r",
      " 42%|██████████████████████████████████▌                                                | 5/12 [00:18<00:26,  3.81s/it]"
     ]
    },
    {
     "name": "stdout",
     "output_type": "stream",
     "text": [
      "tensor([ 0.3982,  0.4234,  0.8006,  ...,  0.9287, -0.1812,  0.1420],\n",
      "       dtype=torch.float64, grad_fn=<SubBackward0>)\n",
      "tensor(0.1245, dtype=torch.float64, grad_fn=<MeanBackward0>)\n"
     ]
    },
    {
     "name": "stderr",
     "output_type": "stream",
     "text": [
      "\r",
      " 50%|█████████████████████████████████████████▌                                         | 6/12 [00:22<00:23,  3.83s/it]"
     ]
    },
    {
     "name": "stdout",
     "output_type": "stream",
     "text": [
      "tensor([-0.2589, -0.4040, -0.2745,  ...,  0.0229,  0.0877, -0.5122],\n",
      "       dtype=torch.float64, grad_fn=<SubBackward0>)\n",
      "tensor(0.0930, dtype=torch.float64, grad_fn=<MeanBackward0>)\n"
     ]
    },
    {
     "name": "stderr",
     "output_type": "stream",
     "text": [
      "\r",
      " 58%|████████████████████████████████████████████████▍                                  | 7/12 [00:26<00:19,  3.83s/it]"
     ]
    },
    {
     "name": "stdout",
     "output_type": "stream",
     "text": [
      "tensor([ 0.2724,  0.3162, -0.1786,  ...,  0.3371,  0.4676,  0.5442],\n",
      "       dtype=torch.float64, grad_fn=<SubBackward0>)\n",
      "tensor(0.0947, dtype=torch.float64, grad_fn=<MeanBackward0>)\n"
     ]
    },
    {
     "name": "stderr",
     "output_type": "stream",
     "text": [
      "\r",
      " 67%|███████████████████████████████████████████████████████▎                           | 8/12 [00:30<00:15,  3.80s/it]"
     ]
    },
    {
     "name": "stdout",
     "output_type": "stream",
     "text": [
      "tensor([-0.1189,  0.3475,  0.2944,  ..., -0.5234, -0.3918,  0.0575],\n",
      "       dtype=torch.float64, grad_fn=<SubBackward0>)\n",
      "tensor(0.0906, dtype=torch.float64, grad_fn=<MeanBackward0>)\n"
     ]
    },
    {
     "name": "stderr",
     "output_type": "stream",
     "text": [
      "\r",
      " 75%|██████████████████████████████████████████████████████████████▎                    | 9/12 [00:34<00:11,  3.75s/it]"
     ]
    },
    {
     "name": "stdout",
     "output_type": "stream",
     "text": [
      "tensor([ 0.6159,  0.6989, -0.0813,  ...,  0.7812,  0.1613,  0.0897],\n",
      "       dtype=torch.float64, grad_fn=<SubBackward0>)\n",
      "tensor(0.1246, dtype=torch.float64, grad_fn=<MeanBackward0>)\n"
     ]
    },
    {
     "name": "stderr",
     "output_type": "stream",
     "text": [
      "\r",
      " 83%|████████████████████████████████████████████████████████████████████▎             | 10/12 [00:37<00:07,  3.76s/it]"
     ]
    },
    {
     "name": "stdout",
     "output_type": "stream",
     "text": [
      "tensor([-0.1095, -0.1259,  0.6865,  ...,  0.7945, -0.0385, -0.0760],\n",
      "       dtype=torch.float64, grad_fn=<SubBackward0>)\n",
      "tensor(0.1232, dtype=torch.float64, grad_fn=<MeanBackward0>)\n"
     ]
    },
    {
     "name": "stderr",
     "output_type": "stream",
     "text": [
      "\r",
      " 92%|███████████████████████████████████████████████████████████████████████████▏      | 11/12 [00:41<00:03,  3.80s/it]"
     ]
    },
    {
     "name": "stdout",
     "output_type": "stream",
     "text": [
      "tensor([ 0.6002,  0.6873, -0.1830,  ..., -0.3027,  0.0411, -0.0180],\n",
      "       dtype=torch.float64, grad_fn=<SubBackward0>)\n",
      "tensor(0.1088, dtype=torch.float64, grad_fn=<MeanBackward0>)\n"
     ]
    },
    {
     "name": "stderr",
     "output_type": "stream",
     "text": [
      "100%|██████████████████████████████████████████████████████████████████████████████████| 12/12 [00:42<00:00,  3.52s/it]\n"
     ]
    },
    {
     "name": "stdout",
     "output_type": "stream",
     "text": [
      "Epoch: 3 Loss: 0.10760912658420772\n"
     ]
    },
    {
     "name": "stderr",
     "output_type": "stream",
     "text": [
      "\r",
      "  0%|                                                                                           | 0/12 [00:00<?, ?it/s]"
     ]
    },
    {
     "name": "stdout",
     "output_type": "stream",
     "text": [
      "tensor([-0.2129,  0.2755,  0.9066,  ...,  0.7686,  0.0689,  0.1834],\n",
      "       dtype=torch.float64, grad_fn=<SubBackward0>)\n",
      "tensor(0.1218, dtype=torch.float64, grad_fn=<MeanBackward0>)\n"
     ]
    },
    {
     "name": "stderr",
     "output_type": "stream",
     "text": [
      "\r",
      "  8%|██████▉                                                                            | 1/12 [00:04<00:44,  4.04s/it]"
     ]
    },
    {
     "name": "stdout",
     "output_type": "stream",
     "text": [
      "tensor([-0.3756, -0.3601, -0.1891,  ..., -0.2519,  0.0939,  0.1276],\n",
      "       dtype=torch.float64, grad_fn=<SubBackward0>)\n",
      "tensor(0.0864, dtype=torch.float64, grad_fn=<MeanBackward0>)\n"
     ]
    },
    {
     "name": "stderr",
     "output_type": "stream",
     "text": [
      "\r",
      " 17%|█████████████▊                                                                     | 2/12 [00:08<00:40,  4.02s/it]"
     ]
    },
    {
     "name": "stdout",
     "output_type": "stream",
     "text": [
      "tensor([ 0.1732,  0.4133, -0.0924,  ...,  0.0844,  0.3684,  0.4144],\n",
      "       dtype=torch.float64, grad_fn=<SubBackward0>)\n",
      "tensor(0.0918, dtype=torch.float64, grad_fn=<MeanBackward0>)\n"
     ]
    },
    {
     "name": "stderr",
     "output_type": "stream",
     "text": [
      "\r",
      " 25%|████████████████████▊                                                              | 3/12 [00:11<00:35,  3.91s/it]"
     ]
    },
    {
     "name": "stdout",
     "output_type": "stream",
     "text": [
      "tensor([ 0.1260, -0.1733, -0.0566,  ...,  0.2289, -0.2115,  0.4517],\n",
      "       dtype=torch.float64, grad_fn=<SubBackward0>)\n",
      "tensor(0.0930, dtype=torch.float64, grad_fn=<MeanBackward0>)\n"
     ]
    },
    {
     "name": "stderr",
     "output_type": "stream",
     "text": [
      "\r",
      " 33%|███████████████████████████▋                                                       | 4/12 [00:15<00:30,  3.82s/it]"
     ]
    },
    {
     "name": "stdout",
     "output_type": "stream",
     "text": [
      "tensor([-0.3641,  0.0942,  0.0791,  ..., -0.1819,  0.1265,  0.1346],\n",
      "       dtype=torch.float64, grad_fn=<SubBackward0>)\n",
      "tensor(0.0946, dtype=torch.float64, grad_fn=<MeanBackward0>)\n"
     ]
    },
    {
     "name": "stderr",
     "output_type": "stream",
     "text": [
      "\r",
      " 42%|██████████████████████████████████▌                                                | 5/12 [00:19<00:26,  3.76s/it]"
     ]
    },
    {
     "name": "stdout",
     "output_type": "stream",
     "text": [
      "tensor([-0.3211, -0.2951, -0.3650,  ..., -0.1268, -0.0862, -0.0678],\n",
      "       dtype=torch.float64, grad_fn=<SubBackward0>)\n",
      "tensor(0.1237, dtype=torch.float64, grad_fn=<MeanBackward0>)\n"
     ]
    },
    {
     "name": "stderr",
     "output_type": "stream",
     "text": [
      "\r",
      " 50%|█████████████████████████████████████████▌                                         | 6/12 [00:22<00:22,  3.73s/it]"
     ]
    },
    {
     "name": "stdout",
     "output_type": "stream",
     "text": [
      "tensor([-0.0760, -0.0507,  0.8134,  ..., -0.2797, -0.0244, -0.1604],\n",
      "       dtype=torch.float64, grad_fn=<SubBackward0>)\n",
      "tensor(0.1220, dtype=torch.float64, grad_fn=<MeanBackward0>)\n"
     ]
    },
    {
     "name": "stderr",
     "output_type": "stream",
     "text": [
      "\r",
      " 58%|████████████████████████████████████████████████▍                                  | 7/12 [00:26<00:18,  3.71s/it]"
     ]
    },
    {
     "name": "stdout",
     "output_type": "stream",
     "text": [
      "tensor([ 0.3821,  0.5870,  0.0654,  ..., -0.1006, -0.3025, -0.3369],\n",
      "       dtype=torch.float64, grad_fn=<SubBackward0>)\n",
      "tensor(0.1005, dtype=torch.float64, grad_fn=<MeanBackward0>)\n"
     ]
    },
    {
     "name": "stderr",
     "output_type": "stream",
     "text": [
      "\r",
      " 67%|███████████████████████████████████████████████████████▎                           | 8/12 [00:30<00:14,  3.68s/it]"
     ]
    },
    {
     "name": "stdout",
     "output_type": "stream",
     "text": [
      "tensor([-0.0362, -0.2419,  0.1733,  ..., -0.2599, -0.1140, -0.0929],\n",
      "       dtype=torch.float64, grad_fn=<SubBackward0>)\n",
      "tensor(0.0876, dtype=torch.float64, grad_fn=<MeanBackward0>)\n"
     ]
    },
    {
     "name": "stderr",
     "output_type": "stream",
     "text": [
      "\r",
      " 75%|██████████████████████████████████████████████████████████████▎                    | 9/12 [00:33<00:10,  3.67s/it]"
     ]
    },
    {
     "name": "stdout",
     "output_type": "stream",
     "text": [
      "tensor([-0.0581, -0.0410,  0.2266,  ..., -0.5392, -0.2286, -0.1438],\n",
      "       dtype=torch.float64, grad_fn=<SubBackward0>)\n",
      "tensor(0.0897, dtype=torch.float64, grad_fn=<MeanBackward0>)\n"
     ]
    },
    {
     "name": "stderr",
     "output_type": "stream",
     "text": [
      "\r",
      " 83%|████████████████████████████████████████████████████████████████████▎             | 10/12 [00:37<00:07,  3.67s/it]"
     ]
    },
    {
     "name": "stdout",
     "output_type": "stream",
     "text": [
      "tensor([-0.2243, -0.3388, -0.1287,  ...,  0.7956, -0.3591, -0.2502],\n",
      "       dtype=torch.float64, grad_fn=<SubBackward0>)\n",
      "tensor(0.1220, dtype=torch.float64, grad_fn=<MeanBackward0>)\n"
     ]
    },
    {
     "name": "stderr",
     "output_type": "stream",
     "text": [
      "\r",
      " 92%|███████████████████████████████████████████████████████████████████████████▏      | 11/12 [00:41<00:03,  3.69s/it]"
     ]
    },
    {
     "name": "stdout",
     "output_type": "stream",
     "text": [
      "tensor([ 0.5786,  0.0986,  0.0500,  ..., -0.1556,  0.4753,  0.3571],\n",
      "       dtype=torch.float64, grad_fn=<SubBackward0>)\n",
      "tensor(0.0960, dtype=torch.float64, grad_fn=<MeanBackward0>)\n"
     ]
    },
    {
     "name": "stderr",
     "output_type": "stream",
     "text": [
      "100%|██████████████████████████████████████████████████████████████████████████████████| 12/12 [00:41<00:00,  3.47s/it]\n"
     ]
    },
    {
     "name": "stdout",
     "output_type": "stream",
     "text": [
      "Epoch: 4 Loss: 0.12175750315029524\n"
     ]
    },
    {
     "name": "stderr",
     "output_type": "stream",
     "text": [
      "\r",
      "  0%|                                                                                           | 0/12 [00:00<?, ?it/s]"
     ]
    },
    {
     "name": "stdout",
     "output_type": "stream",
     "text": [
      "tensor([ 0.3650,  0.4220, -0.1020,  ...,  0.4602, -0.2905,  0.2780],\n",
      "       dtype=torch.float64, grad_fn=<SubBackward0>)\n",
      "tensor(0.0918, dtype=torch.float64, grad_fn=<MeanBackward0>)\n"
     ]
    },
    {
     "name": "stderr",
     "output_type": "stream",
     "text": [
      "\r",
      "  8%|██████▉                                                                            | 1/12 [00:03<00:39,  3.62s/it]"
     ]
    },
    {
     "name": "stdout",
     "output_type": "stream",
     "text": [
      "tensor([-0.0684,  0.3191,  0.8299,  ..., -0.4672, -0.1764, -0.1621],\n",
      "       dtype=torch.float64, grad_fn=<SubBackward0>)\n",
      "tensor(0.1204, dtype=torch.float64, grad_fn=<MeanBackward0>)\n"
     ]
    },
    {
     "name": "stderr",
     "output_type": "stream",
     "text": [
      "\r",
      " 17%|█████████████▊                                                                     | 2/12 [00:07<00:36,  3.62s/it]"
     ]
    },
    {
     "name": "stdout",
     "output_type": "stream",
     "text": [
      "tensor([ 0.5443,  0.0226,  0.0764,  ..., -0.2930,  0.2296, -0.2430],\n",
      "       dtype=torch.float64, grad_fn=<SubBackward0>)\n",
      "tensor(0.0874, dtype=torch.float64, grad_fn=<MeanBackward0>)\n"
     ]
    },
    {
     "name": "stderr",
     "output_type": "stream",
     "text": [
      "\r",
      " 25%|████████████████████▊                                                              | 3/12 [00:10<00:33,  3.67s/it]"
     ]
    },
    {
     "name": "stdout",
     "output_type": "stream",
     "text": [
      "tensor([-0.2514,  0.2328,  0.7604,  ...,  0.7626, -0.0537, -0.0932],\n",
      "       dtype=torch.float64, grad_fn=<SubBackward0>)\n",
      "tensor(0.1206, dtype=torch.float64, grad_fn=<MeanBackward0>)\n"
     ]
    },
    {
     "name": "stderr",
     "output_type": "stream",
     "text": [
      "\r",
      " 33%|███████████████████████████▋                                                       | 4/12 [00:14<00:29,  3.67s/it]"
     ]
    },
    {
     "name": "stdout",
     "output_type": "stream",
     "text": [
      "tensor([ 0.1386,  0.2747, -0.3531,  ..., -0.1904, -0.2491, -0.2441],\n",
      "       dtype=torch.float64, grad_fn=<SubBackward0>)\n",
      "tensor(0.0826, dtype=torch.float64, grad_fn=<MeanBackward0>)\n"
     ]
    },
    {
     "name": "stderr",
     "output_type": "stream",
     "text": [
      "\r",
      " 42%|██████████████████████████████████▌                                                | 5/12 [00:18<00:25,  3.65s/it]"
     ]
    },
    {
     "name": "stdout",
     "output_type": "stream",
     "text": [
      "tensor([-0.3748, -0.0083,  0.1411,  ..., -0.0686,  0.2655,  0.2197],\n",
      "       dtype=torch.float64, grad_fn=<SubBackward0>)\n",
      "tensor(0.0907, dtype=torch.float64, grad_fn=<MeanBackward0>)\n"
     ]
    },
    {
     "name": "stderr",
     "output_type": "stream",
     "text": [
      "\r",
      " 50%|█████████████████████████████████████████▌                                         | 6/12 [00:21<00:22,  3.67s/it]"
     ]
    },
    {
     "name": "stdout",
     "output_type": "stream",
     "text": [
      "tensor([-0.0805,  0.0632,  0.9259,  ...,  0.7896,  0.0242,  0.0395],\n",
      "       dtype=torch.float64, grad_fn=<SubBackward0>)\n",
      "tensor(0.1185, dtype=torch.float64, grad_fn=<MeanBackward0>)\n"
     ]
    },
    {
     "name": "stderr",
     "output_type": "stream",
     "text": [
      "\r",
      " 58%|████████████████████████████████████████████████▍                                  | 7/12 [00:25<00:18,  3.65s/it]"
     ]
    },
    {
     "name": "stdout",
     "output_type": "stream",
     "text": [
      "tensor([ 0.5815,  0.6195, -0.1584,  ..., -0.2793, -0.1409, -0.0913],\n",
      "       dtype=torch.float64, grad_fn=<SubBackward0>)\n",
      "tensor(0.1163, dtype=torch.float64, grad_fn=<MeanBackward0>)\n"
     ]
    },
    {
     "name": "stderr",
     "output_type": "stream",
     "text": [
      "\r",
      " 67%|███████████████████████████████████████████████████████▎                           | 8/12 [00:29<00:14,  3.65s/it]"
     ]
    },
    {
     "name": "stdout",
     "output_type": "stream",
     "text": [
      "tensor([ 0.2466, -0.0877, -0.0168,  ...,  0.3448,  0.3990,  0.2776],\n",
      "       dtype=torch.float64, grad_fn=<SubBackward0>)\n",
      "tensor(0.0945, dtype=torch.float64, grad_fn=<MeanBackward0>)\n"
     ]
    },
    {
     "name": "stderr",
     "output_type": "stream",
     "text": [
      "\r",
      " 75%|██████████████████████████████████████████████████████████████▎                    | 9/12 [00:32<00:10,  3.65s/it]"
     ]
    },
    {
     "name": "stdout",
     "output_type": "stream",
     "text": [
      "tensor([-0.1390, -0.0711,  0.7351,  ...,  0.8390,  0.2780,  0.2748],\n",
      "       dtype=torch.float64, grad_fn=<SubBackward0>)\n",
      "tensor(0.1201, dtype=torch.float64, grad_fn=<MeanBackward0>)\n"
     ]
    },
    {
     "name": "stderr",
     "output_type": "stream",
     "text": [
      "\r",
      " 83%|████████████████████████████████████████████████████████████████████▎             | 10/12 [00:36<00:07,  3.65s/it]"
     ]
    },
    {
     "name": "stdout",
     "output_type": "stream",
     "text": [
      "tensor([ 0.2701,  0.3177, -0.0201,  ...,  0.7157,  0.1877,  0.2943],\n",
      "       dtype=torch.float64, grad_fn=<SubBackward0>)\n",
      "tensor(0.1118, dtype=torch.float64, grad_fn=<MeanBackward0>)\n"
     ]
    },
    {
     "name": "stderr",
     "output_type": "stream",
     "text": [
      "\r",
      " 92%|███████████████████████████████████████████████████████████████████████████▏      | 11/12 [00:40<00:03,  3.65s/it]"
     ]
    },
    {
     "name": "stdout",
     "output_type": "stream",
     "text": [
      "tensor([-0.2568, -0.1330,  0.2080,  ..., -0.0413,  0.3477,  0.5621],\n",
      "       dtype=torch.float64, grad_fn=<SubBackward0>)\n",
      "tensor(0.0889, dtype=torch.float64, grad_fn=<MeanBackward0>)\n"
     ]
    },
    {
     "name": "stderr",
     "output_type": "stream",
     "text": [
      "100%|██████████████████████████████████████████████████████████████████████████████████| 12/12 [00:40<00:00,  3.39s/it]"
     ]
    },
    {
     "name": "stdout",
     "output_type": "stream",
     "text": [
      "Epoch: 5 Loss: 0.09182464163939537\n"
     ]
    },
    {
     "name": "stderr",
     "output_type": "stream",
     "text": [
      "\n"
     ]
    }
   ],
   "source": [
    "objective = mse_missing\n",
    "\n",
    "r_tran = ReconstructionImputationTransformer()\n",
    "\n",
    "lr = 1e-4\n",
    "n_epochs = 5\n",
    "optim = torch.optim.Adam(r_tran.parameters(), lr=lr)\n",
    "losses = []\n",
    "\n",
    "for n in range(n_epochs):\n",
    "    counter = 0\n",
    "    for i, (X, y) in enumerate(tqdm(trainloader)):\n",
    "        \n",
    "        masked_X = Masking.mask_input(X)\n",
    "        optim.zero_grad()\n",
    "        xhat = r_tran(masked_X[:,:,columns_kept].float())\n",
    "        loss = objective(xhat, masked_X[:,:,columns_kept], X[:,:,columns_kept])\\\n",
    "        loss.backward()\n",
    "        losses.append(loss.item())\n",
    "        optim.step()\n",
    "        counter += 1\n",
    "        \n",
    "    print(\"Epoch:\", n+1, \"Loss:\",np.mean(losses[-counter:][0]))"
   ]
  },
  {
   "cell_type": "code",
   "execution_count": 14,
   "id": "dcb39c61",
   "metadata": {},
   "outputs": [
    {
     "name": "stdout",
     "output_type": "stream",
     "text": [
      "tensor([-0.2568, -0.1330,  0.2080,  ..., -0.0413,  0.3477,  0.5621],\n",
      "       dtype=torch.float64)\n",
      "tensor(0.0889, dtype=torch.float64)\n"
     ]
    }
   ],
   "source": [
    "with torch.no_grad():\n",
    "    print(mse_missing(xhat, masked_X[:,:,columns_kept], X[:,:,columns_kept]))"
   ]
  },
  {
   "cell_type": "code",
   "execution_count": 15,
   "id": "39d4dfb6",
   "metadata": {},
   "outputs": [
    {
     "name": "stderr",
     "output_type": "stream",
     "text": [
      "  0%|                                                                                           | 0/12 [00:01<?, ?it/s]"
     ]
    },
    {
     "name": "stdout",
     "output_type": "stream",
     "text": [
      "tensor([ 0.0204, -0.0875, -0.2634,  ..., -0.1168, -0.0523, -0.0008],\n",
      "       dtype=torch.float64)\n"
     ]
    },
    {
     "name": "stderr",
     "output_type": "stream",
     "text": [
      "\n"
     ]
    },
    {
     "ename": "TypeError",
     "evalue": "mse_missing() missing 1 required positional argument: 'X'",
     "output_type": "error",
     "traceback": [
      "\u001b[1;31m---------------------------------------------------------------------------\u001b[0m",
      "\u001b[1;31mTypeError\u001b[0m                                 Traceback (most recent call last)",
      "Cell \u001b[1;32mIn [15], line 7\u001b[0m\n\u001b[0;32m      5\u001b[0m             xhat \u001b[38;5;241m=\u001b[39m r_tran(masked_X[:,:,columns_kept]\u001b[38;5;241m.\u001b[39mfloat())\n\u001b[0;32m      6\u001b[0m             mse_missing(xhat, masked_X[:,:,columns_kept]\u001b[38;5;241m.\u001b[39mfloat(), X[:,:,columns_kept])\n\u001b[1;32m----> 7\u001b[0m             test_mse \u001b[38;5;241m=\u001b[39m \u001b[43mobjective\u001b[49m\u001b[43m(\u001b[49m\u001b[43mxhat\u001b[49m\u001b[43m,\u001b[49m\u001b[43m \u001b[49m\u001b[43mX\u001b[49m\u001b[43m[\u001b[49m\u001b[43m:\u001b[49m\u001b[43m,\u001b[49m\u001b[43m:\u001b[49m\u001b[43m,\u001b[49m\u001b[43mcolumns_kept\u001b[49m\u001b[43m]\u001b[49m\u001b[38;5;241;43m.\u001b[39;49m\u001b[43mfloat\u001b[49m\u001b[43m(\u001b[49m\u001b[43m)\u001b[49m\u001b[43m)\u001b[49m\n\u001b[0;32m      8\u001b[0m             test_mses\u001b[38;5;241m.\u001b[39mappend(test_mse\u001b[38;5;241m.\u001b[39mitem())\n\u001b[0;32m      9\u001b[0m \u001b[38;5;28mprint\u001b[39m(\u001b[38;5;124m\"\u001b[39m\u001b[38;5;124mTest MSE:\u001b[39m\u001b[38;5;124m\"\u001b[39m, np\u001b[38;5;241m.\u001b[39mmean(test_mses))\n",
      "\u001b[1;31mTypeError\u001b[0m: mse_missing() missing 1 required positional argument: 'X'"
     ]
    }
   ],
   "source": [
    "test_mses = []\n",
    "with torch.no_grad():\n",
    "    for i, (X, y) in enumerate(tqdm(testloader)):\n",
    "            masked_X = Masking.mask_input(X)\n",
    "            xhat = r_tran(masked_X[:,:,columns_kept].float())\n",
    "            test_mse = mse_missing(xhat, masked_X[:,:,columns_kept], X[:,:,columns_kept]).item()\n",
    "            test_mses.append(test_mse.item())\n",
    "print(\"Test MSE:\", np.mean(test_mses))"
   ]
  }
 ],
 "metadata": {
  "kernelspec": {
   "display_name": "Python 3 (ipykernel)",
   "language": "python",
   "name": "python3"
  },
  "language_info": {
   "codemirror_mode": {
    "name": "ipython",
    "version": 3
   },
   "file_extension": ".py",
   "mimetype": "text/x-python",
   "name": "python",
   "nbconvert_exporter": "python",
   "pygments_lexer": "ipython3",
   "version": "3.10.9"
  }
 },
 "nbformat": 4,
 "nbformat_minor": 5
}
